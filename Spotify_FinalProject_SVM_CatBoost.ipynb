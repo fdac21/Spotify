{
 "cells": [
  {
   "cell_type": "code",
   "execution_count": 4,
   "id": "af603bfc-3399-414d-97d1-8e597050cb9d",
   "metadata": {},
   "outputs": [],
   "source": [
    "# Final Project Scratch\n",
    "\n",
    "# Packages\n",
    "import pandas as pd\n",
    "import matplotlib.pyplot as plt\n",
    "import numpy as np\n",
    "from sklearn.preprocessing import StandardScaler\n",
    "from sklearn.decomposition import PCA\n",
    "from sklearn.model_selection import train_test_split\n",
    "from sklearn.tree import DecisionTreeClassifier\n",
    "from sklearn.ensemble import RandomForestRegressor\n",
    "from sklearn import metrics\n",
    "from itertools import product"
   ]
  },
  {
   "cell_type": "code",
   "execution_count": 5,
   "id": "9b2f28c8-bafe-4bd6-9825-0a24c3965a09",
   "metadata": {},
   "outputs": [],
   "source": [
    "music = pd.read_csv('music.csv')"
   ]
  },
  {
   "cell_type": "code",
   "execution_count": 6,
   "id": "c0ac2e9b-1f77-498d-91ad-6c36b783176e",
   "metadata": {},
   "outputs": [
    {
     "name": "stdout",
     "output_type": "stream",
     "text": [
      "<class 'pandas.core.frame.DataFrame'>\n",
      "RangeIndex: 174389 entries, 0 to 174388\n",
      "Data columns (total 19 columns):\n",
      " #   Column            Non-Null Count   Dtype  \n",
      "---  ------            --------------   -----  \n",
      " 0   acousticness      174389 non-null  float64\n",
      " 1   artists           174389 non-null  object \n",
      " 2   danceability      174389 non-null  float64\n",
      " 3   duration_ms       174389 non-null  int64  \n",
      " 4   energy            174389 non-null  float64\n",
      " 5   explicit          174389 non-null  int64  \n",
      " 6   id                174389 non-null  object \n",
      " 7   instrumentalness  174389 non-null  float64\n",
      " 8   key               174389 non-null  int64  \n",
      " 9   liveness          174389 non-null  float64\n",
      " 10  loudness          174389 non-null  float64\n",
      " 11  mode              174389 non-null  int64  \n",
      " 12  name              174389 non-null  object \n",
      " 13  popularity        174389 non-null  int64  \n",
      " 14  release_date      174389 non-null  object \n",
      " 15  speechiness       174389 non-null  float64\n",
      " 16  tempo             174389 non-null  float64\n",
      " 17  valence           174389 non-null  float64\n",
      " 18  year              174389 non-null  int64  \n",
      "dtypes: float64(9), int64(6), object(4)\n",
      "memory usage: 25.3+ MB\n"
     ]
    }
   ],
   "source": [
    "music.head()\n",
    "music.info()"
   ]
  },
  {
   "cell_type": "code",
   "execution_count": 7,
   "id": "79bcc7f6-1266-4175-b0e1-7e736ff231af",
   "metadata": {},
   "outputs": [],
   "source": [
    "# Remove columns ID and Name\n",
    "\n",
    "music = music.drop('id', 1)\n",
    "music = music.drop('name', 1)"
   ]
  },
  {
   "cell_type": "code",
   "execution_count": 8,
   "id": "91931585-dfdc-4c70-93e9-450ce5ccf7ab",
   "metadata": {},
   "outputs": [
    {
     "name": "stdout",
     "output_type": "stream",
     "text": [
      "<class 'pandas.core.frame.DataFrame'>\n",
      "RangeIndex: 174389 entries, 0 to 174388\n",
      "Data columns (total 17 columns):\n",
      " #   Column            Non-Null Count   Dtype  \n",
      "---  ------            --------------   -----  \n",
      " 0   acousticness      174389 non-null  float64\n",
      " 1   artists           174389 non-null  object \n",
      " 2   danceability      174389 non-null  float64\n",
      " 3   duration_ms       174389 non-null  int64  \n",
      " 4   energy            174389 non-null  float64\n",
      " 5   explicit          174389 non-null  int64  \n",
      " 6   instrumentalness  174389 non-null  float64\n",
      " 7   key               174389 non-null  int64  \n",
      " 8   liveness          174389 non-null  float64\n",
      " 9   loudness          174389 non-null  float64\n",
      " 10  mode              174389 non-null  int64  \n",
      " 11  popularity        174389 non-null  int64  \n",
      " 12  release_date      174389 non-null  object \n",
      " 13  speechiness       174389 non-null  float64\n",
      " 14  tempo             174389 non-null  float64\n",
      " 15  valence           174389 non-null  float64\n",
      " 16  year              174389 non-null  int64  \n",
      "dtypes: float64(9), int64(6), object(2)\n",
      "memory usage: 22.6+ MB\n"
     ]
    }
   ],
   "source": [
    "music.head()\n",
    "music.info()"
   ]
  },
  {
   "cell_type": "code",
   "execution_count": 9,
   "id": "25d35231-63c5-43ed-8ea7-f2a8c15cbdff",
   "metadata": {},
   "outputs": [],
   "source": [
    "# Decades Variable\n",
    "\n",
    "#music.loc[1,1]\n",
    "#len(music)\n",
    "music['year'][1201] >= 1930\n",
    "music.year[1201] >= 1930\n",
    "\n",
    "music['decade'] = 1"
   ]
  },
  {
   "cell_type": "code",
   "execution_count": 10,
   "id": "c843eb49-ad77-4b91-9004-aea90cf703a7",
   "metadata": {},
   "outputs": [
    {
     "name": "stdout",
     "output_type": "stream",
     "text": [
      "<class 'pandas.core.frame.DataFrame'>\n",
      "RangeIndex: 174389 entries, 0 to 174388\n",
      "Data columns (total 18 columns):\n",
      " #   Column            Non-Null Count   Dtype  \n",
      "---  ------            --------------   -----  \n",
      " 0   acousticness      174389 non-null  float64\n",
      " 1   artists           174389 non-null  object \n",
      " 2   danceability      174389 non-null  float64\n",
      " 3   duration_ms       174389 non-null  int64  \n",
      " 4   energy            174389 non-null  float64\n",
      " 5   explicit          174389 non-null  int64  \n",
      " 6   instrumentalness  174389 non-null  float64\n",
      " 7   key               174389 non-null  int64  \n",
      " 8   liveness          174389 non-null  float64\n",
      " 9   loudness          174389 non-null  float64\n",
      " 10  mode              174389 non-null  int64  \n",
      " 11  popularity        174389 non-null  int64  \n",
      " 12  release_date      174389 non-null  object \n",
      " 13  speechiness       174389 non-null  float64\n",
      " 14  tempo             174389 non-null  float64\n",
      " 15  valence           174389 non-null  float64\n",
      " 16  year              174389 non-null  int64  \n",
      " 17  decade            174389 non-null  int64  \n",
      "dtypes: float64(9), int64(7), object(2)\n",
      "memory usage: 23.9+ MB\n"
     ]
    }
   ],
   "source": [
    "music.head()\n",
    "music.info()"
   ]
  },
  {
   "cell_type": "code",
   "execution_count": 11,
   "id": "599536d0-610a-49ff-b6b5-0ef1a6a43bbc",
   "metadata": {},
   "outputs": [
    {
     "name": "stderr",
     "output_type": "stream",
     "text": [
      "/var/folders/hr/q7jvsqzd6n9fz7ld_5zx4df00000gn/T/ipykernel_71270/2075037868.py:3: SettingWithCopyWarning: \n",
      "A value is trying to be set on a copy of a slice from a DataFrame\n",
      "\n",
      "See the caveats in the documentation: https://pandas.pydata.org/pandas-docs/stable/user_guide/indexing.html#returning-a-view-versus-a-copy\n",
      "  music['decade'][i] = 1920\n",
      "/var/folders/hr/q7jvsqzd6n9fz7ld_5zx4df00000gn/T/ipykernel_71270/2075037868.py:5: SettingWithCopyWarning: \n",
      "A value is trying to be set on a copy of a slice from a DataFrame\n",
      "\n",
      "See the caveats in the documentation: https://pandas.pydata.org/pandas-docs/stable/user_guide/indexing.html#returning-a-view-versus-a-copy\n",
      "  music['decade'][i] = 1930\n",
      "/var/folders/hr/q7jvsqzd6n9fz7ld_5zx4df00000gn/T/ipykernel_71270/2075037868.py:7: SettingWithCopyWarning: \n",
      "A value is trying to be set on a copy of a slice from a DataFrame\n",
      "\n",
      "See the caveats in the documentation: https://pandas.pydata.org/pandas-docs/stable/user_guide/indexing.html#returning-a-view-versus-a-copy\n",
      "  music['decade'][i] = 1940\n",
      "/var/folders/hr/q7jvsqzd6n9fz7ld_5zx4df00000gn/T/ipykernel_71270/2075037868.py:9: SettingWithCopyWarning: \n",
      "A value is trying to be set on a copy of a slice from a DataFrame\n",
      "\n",
      "See the caveats in the documentation: https://pandas.pydata.org/pandas-docs/stable/user_guide/indexing.html#returning-a-view-versus-a-copy\n",
      "  music['decade'][i] = 1950\n",
      "/var/folders/hr/q7jvsqzd6n9fz7ld_5zx4df00000gn/T/ipykernel_71270/2075037868.py:11: SettingWithCopyWarning: \n",
      "A value is trying to be set on a copy of a slice from a DataFrame\n",
      "\n",
      "See the caveats in the documentation: https://pandas.pydata.org/pandas-docs/stable/user_guide/indexing.html#returning-a-view-versus-a-copy\n",
      "  music['decade'][i] = 1960\n",
      "/var/folders/hr/q7jvsqzd6n9fz7ld_5zx4df00000gn/T/ipykernel_71270/2075037868.py:19: SettingWithCopyWarning: \n",
      "A value is trying to be set on a copy of a slice from a DataFrame\n",
      "\n",
      "See the caveats in the documentation: https://pandas.pydata.org/pandas-docs/stable/user_guide/indexing.html#returning-a-view-versus-a-copy\n",
      "  music['decade'][i] = 2000\n",
      "/var/folders/hr/q7jvsqzd6n9fz7ld_5zx4df00000gn/T/ipykernel_71270/2075037868.py:21: SettingWithCopyWarning: \n",
      "A value is trying to be set on a copy of a slice from a DataFrame\n",
      "\n",
      "See the caveats in the documentation: https://pandas.pydata.org/pandas-docs/stable/user_guide/indexing.html#returning-a-view-versus-a-copy\n",
      "  music['decade'][i] = 2010\n",
      "/var/folders/hr/q7jvsqzd6n9fz7ld_5zx4df00000gn/T/ipykernel_71270/2075037868.py:23: SettingWithCopyWarning: \n",
      "A value is trying to be set on a copy of a slice from a DataFrame\n",
      "\n",
      "See the caveats in the documentation: https://pandas.pydata.org/pandas-docs/stable/user_guide/indexing.html#returning-a-view-versus-a-copy\n",
      "  music['decade'][i] = 2020\n",
      "/var/folders/hr/q7jvsqzd6n9fz7ld_5zx4df00000gn/T/ipykernel_71270/2075037868.py:17: SettingWithCopyWarning: \n",
      "A value is trying to be set on a copy of a slice from a DataFrame\n",
      "\n",
      "See the caveats in the documentation: https://pandas.pydata.org/pandas-docs/stable/user_guide/indexing.html#returning-a-view-versus-a-copy\n",
      "  music['decade'][i] = 1990\n",
      "/var/folders/hr/q7jvsqzd6n9fz7ld_5zx4df00000gn/T/ipykernel_71270/2075037868.py:13: SettingWithCopyWarning: \n",
      "A value is trying to be set on a copy of a slice from a DataFrame\n",
      "\n",
      "See the caveats in the documentation: https://pandas.pydata.org/pandas-docs/stable/user_guide/indexing.html#returning-a-view-versus-a-copy\n",
      "  music['decade'][i] = 1970\n",
      "/var/folders/hr/q7jvsqzd6n9fz7ld_5zx4df00000gn/T/ipykernel_71270/2075037868.py:15: SettingWithCopyWarning: \n",
      "A value is trying to be set on a copy of a slice from a DataFrame\n",
      "\n",
      "See the caveats in the documentation: https://pandas.pydata.org/pandas-docs/stable/user_guide/indexing.html#returning-a-view-versus-a-copy\n",
      "  music['decade'][i] = 1980\n"
     ]
    }
   ],
   "source": [
    "for i in range(len(music)):\n",
    "    if (music.year[i] >= 1920) & (music.year[i] < 1930):\n",
    "        music['decade'][i] = 1920\n",
    "    elif (music.year[i] >= 1930) & (music.year[i] < 1940):\n",
    "        music['decade'][i] = 1930\n",
    "    elif (music.year[i] >= 1940) & (music.year[i] < 1950):\n",
    "        music['decade'][i] = 1940\n",
    "    elif (music.year[i] >= 1950) & (music.year[i] < 1960):\n",
    "        music['decade'][i] = 1950\n",
    "    elif (music.year[i] >= 1960) & (music.year[i] < 1970):\n",
    "        music['decade'][i] = 1960\n",
    "    elif (music.year[i] >= 1970) & (music.year[i] < 1980):\n",
    "        music['decade'][i] = 1970\n",
    "    elif (music.year[i] >= 1980) & (music.year[i] < 1990):\n",
    "        music['decade'][i] = 1980\n",
    "    elif (music.year[i] >= 1990) & (music.year[i] < 2000):\n",
    "        music['decade'][i] = 1990\n",
    "    elif (music.year[i] >= 2000) & (music.year[i] < 2010):\n",
    "        music['decade'][i] = 2000\n",
    "    elif (music.year[i] >= 2010) & (music.year[i] < 2020):\n",
    "        music['decade'][i] = 2010\n",
    "    else:\n",
    "        music['decade'][i] = 2020"
   ]
  },
  {
   "cell_type": "code",
   "execution_count": 12,
   "id": "d957ccce-91b7-46a9-9b44-6b8b0a8d7689",
   "metadata": {},
   "outputs": [
    {
     "data": {
      "text/html": [
       "<div>\n",
       "<style scoped>\n",
       "    .dataframe tbody tr th:only-of-type {\n",
       "        vertical-align: middle;\n",
       "    }\n",
       "\n",
       "    .dataframe tbody tr th {\n",
       "        vertical-align: top;\n",
       "    }\n",
       "\n",
       "    .dataframe thead th {\n",
       "        text-align: right;\n",
       "    }\n",
       "</style>\n",
       "<table border=\"1\" class=\"dataframe\">\n",
       "  <thead>\n",
       "    <tr style=\"text-align: right;\">\n",
       "      <th></th>\n",
       "      <th>year</th>\n",
       "      <th>decade</th>\n",
       "    </tr>\n",
       "  </thead>\n",
       "  <tbody>\n",
       "    <tr>\n",
       "      <th>0</th>\n",
       "      <td>1920</td>\n",
       "      <td>1920</td>\n",
       "    </tr>\n",
       "    <tr>\n",
       "      <th>1</th>\n",
       "      <td>1920</td>\n",
       "      <td>1920</td>\n",
       "    </tr>\n",
       "    <tr>\n",
       "      <th>2</th>\n",
       "      <td>1920</td>\n",
       "      <td>1920</td>\n",
       "    </tr>\n",
       "    <tr>\n",
       "      <th>3</th>\n",
       "      <td>1920</td>\n",
       "      <td>1920</td>\n",
       "    </tr>\n",
       "    <tr>\n",
       "      <th>4</th>\n",
       "      <td>1920</td>\n",
       "      <td>1920</td>\n",
       "    </tr>\n",
       "    <tr>\n",
       "      <th>...</th>\n",
       "      <td>...</td>\n",
       "      <td>...</td>\n",
       "    </tr>\n",
       "    <tr>\n",
       "      <th>174384</th>\n",
       "      <td>2020</td>\n",
       "      <td>2020</td>\n",
       "    </tr>\n",
       "    <tr>\n",
       "      <th>174385</th>\n",
       "      <td>2021</td>\n",
       "      <td>2020</td>\n",
       "    </tr>\n",
       "    <tr>\n",
       "      <th>174386</th>\n",
       "      <td>2020</td>\n",
       "      <td>2020</td>\n",
       "    </tr>\n",
       "    <tr>\n",
       "      <th>174387</th>\n",
       "      <td>2021</td>\n",
       "      <td>2020</td>\n",
       "    </tr>\n",
       "    <tr>\n",
       "      <th>174388</th>\n",
       "      <td>2020</td>\n",
       "      <td>2020</td>\n",
       "    </tr>\n",
       "  </tbody>\n",
       "</table>\n",
       "<p>174389 rows × 2 columns</p>\n",
       "</div>"
      ],
      "text/plain": [
       "        year  decade\n",
       "0       1920    1920\n",
       "1       1920    1920\n",
       "2       1920    1920\n",
       "3       1920    1920\n",
       "4       1920    1920\n",
       "...      ...     ...\n",
       "174384  2020    2020\n",
       "174385  2021    2020\n",
       "174386  2020    2020\n",
       "174387  2021    2020\n",
       "174388  2020    2020\n",
       "\n",
       "[174389 rows x 2 columns]"
      ]
     },
     "execution_count": 12,
     "metadata": {},
     "output_type": "execute_result"
    }
   ],
   "source": [
    "music[['year', 'decade']]"
   ]
  },
  {
   "cell_type": "code",
   "execution_count": 13,
   "id": "c636f9f1-490b-49dc-a370-861c8fb5cf19",
   "metadata": {},
   "outputs": [
    {
     "data": {
      "text/plain": [
       "2010    22455\n",
       "1990    20328\n",
       "1970    20118\n",
       "1980    20074\n",
       "1950    20000\n",
       "1960    19610\n",
       "1940    15493\n",
       "2000    13782\n",
       "1930    10764\n",
       "2020     6134\n",
       "1920     5631\n",
       "Name: decade, dtype: int64"
      ]
     },
     "execution_count": 13,
     "metadata": {},
     "output_type": "execute_result"
    },
    {
     "data": {
      "image/png": "[encoded data removed]",
      "text/plain": [
       "<Figure size 432x288 with 1 Axes>"
      ]
     },
     "metadata": {
      "needs_background": "light"
     },
     "output_type": "display_data"
    }
   ],
   "source": [
    "plt.hist(music.decade)\n",
    "music.decade.value_counts()"
   ]
  },
  {
   "cell_type": "code",
   "execution_count": 14,
   "id": "e5cde144-cd4f-4ad4-b485-e1d223a25ac4",
   "metadata": {},
   "outputs": [
    {
     "data": {
      "text/plain": [
       "2    43768\n",
       "4    43669\n",
       "3    43134\n",
       "1    42737\n",
       "0     1081\n",
       "Name: tempo_disc, dtype: int64"
      ]
     },
     "execution_count": 14,
     "metadata": {},
     "output_type": "execute_result"
    },
    {
     "data": {
      "image/png": "[encoded data removed]",
      "text/plain": [
       "<Figure size 432x288 with 1 Axes>"
      ]
     },
     "metadata": {
      "needs_background": "light"
     },
     "output_type": "display_data"
    }
   ],
   "source": [
    "#Tempos\n",
    "# hist(music$tempo)\n",
    "# music$tempo_disc <- discretize(music$tempo, method = \"cluster\", breaks = 5, labels = FALSE)\n",
    "# music$tempo_disc <- as.factor(music$tempo_disc)\n",
    "# table(music$temp_disc)\n",
    "\n",
    "plt.hist(music.tempo)\n",
    "music[\"tempo_disc\"] = np.digitize(music.tempo, [60, 94, 116, 135])\n",
    "music[\"tempo_disc\"] = music[\"tempo_disc\"].astype(str)\n",
    "music.tempo_disc.value_counts()"
   ]
  },
  {
   "cell_type": "code",
   "execution_count": 15,
   "id": "116facb5-78c1-42ef-af4b-89cf3f405b3e",
   "metadata": {},
   "outputs": [
    {
     "name": "stderr",
     "output_type": "stream",
     "text": [
      "/var/folders/hr/q7jvsqzd6n9fz7ld_5zx4df00000gn/T/ipykernel_71270/3859284878.py:13: SettingWithCopyWarning: \n",
      "A value is trying to be set on a copy of a slice from a DataFrame\n",
      "\n",
      "See the caveats in the documentation: https://pandas.pydata.org/pandas-docs/stable/user_guide/indexing.html#returning-a-view-versus-a-copy\n",
      "  music.multi_artist[i] = 0\n",
      "/var/folders/hr/q7jvsqzd6n9fz7ld_5zx4df00000gn/T/ipykernel_71270/3859284878.py:11: SettingWithCopyWarning: \n",
      "A value is trying to be set on a copy of a slice from a DataFrame\n",
      "\n",
      "See the caveats in the documentation: https://pandas.pydata.org/pandas-docs/stable/user_guide/indexing.html#returning-a-view-versus-a-copy\n",
      "  music.multi_artist[i] = 1\n"
     ]
    },
    {
     "data": {
      "text/plain": [
       "0    136808\n",
       "1     37581\n",
       "Name: multi_artist, dtype: int64"
      ]
     },
     "execution_count": 15,
     "metadata": {},
     "output_type": "execute_result"
    }
   ],
   "source": [
    "#Multi Artists\n",
    "# for (i in 1:nrow(music)) {\n",
    "#   if (grepl(\"', '\", music$artists[i])) { music$multi_artist[i] <- 1 }\n",
    "#   else { music$multi_artist[i] <- 0 }\n",
    "# }\n",
    "# table(music$multi_artist)\n",
    "\n",
    "music[\"multi_artist\"] = np.where((\",\" in music.artists), 1, 0) #I don't know why but this line has to be run before the for loop\n",
    "for i in range(len(music)):\n",
    "    if \",\" in music.artists[i]:\n",
    "        music.multi_artist[i] = 1\n",
    "    else:\n",
    "        music.multi_artist[i] = 0\n",
    "\n",
    "music.multi_artist = music.multi_artist.astype(str) \n",
    "music.multi_artist.value_counts()"
   ]
  },
  {
   "cell_type": "code",
   "execution_count": 16,
   "id": "e4139d0c-e647-4f97-837b-b64934d04798",
   "metadata": {},
   "outputs": [],
   "source": [
    "# Explicit - make factor\n",
    "# music$explicit <- as.factor(music$explicit)\n",
    "\n",
    "music.explicit = music.explicit.astype(str)"
   ]
  },
  {
   "cell_type": "code",
   "execution_count": 17,
   "id": "f199fdff-fd7c-415e-a7aa-fe897c083d25",
   "metadata": {},
   "outputs": [
    {
     "data": {
      "image/png": "[encoded data removed]",
      "text/plain": [
       "<Figure size 432x288 with 1 Axes>"
      ]
     },
     "metadata": {
      "needs_background": "light"
     },
     "output_type": "display_data"
    }
   ],
   "source": [
    "# Duration MS\n",
    "# hist(music$duration_ms)\n",
    "# hist(log(music$duration_ms))\n",
    "# music$log_duration_ms <- log(music$duration_ms)\n",
    "\n",
    "plt.hist(music.duration_ms)\n",
    "plt.hist(np.log(music.duration_ms))\n",
    "music[\"log_duration_ms\"] = np.log(music.duration_ms)"
   ]
  },
  {
   "cell_type": "code",
   "execution_count": 18,
   "id": "44ca3bdc-a3bb-4dcb-b93c-c333541847a4",
   "metadata": {},
   "outputs": [
    {
     "data": {
      "text/plain": [
       "4    44561\n",
       "3    44086\n",
       "0    42221\n",
       "2    27187\n",
       "1    16334\n",
       "Name: acousticness_disc, dtype: int64"
      ]
     },
     "execution_count": 18,
     "metadata": {},
     "output_type": "execute_result"
    },
    {
     "data": {
      "image/png": "[encoded data removed]",
      "text/plain": [
       "<Figure size 432x288 with 1 Axes>"
      ]
     },
     "metadata": {
      "needs_background": "light"
     },
     "output_type": "display_data"
    }
   ],
   "source": [
    "# Acousticness - discretize into 5 bins\n",
    "# hist(music$acousticness)\n",
    "# hist(music$acousticness, breaks = 20, main = \"K-Means\")\n",
    "# abline(v = discretize(music$acousticness, method = \"cluster\", breaks = 5, \n",
    "#                       onlycuts = TRUE), col = \"red\")\n",
    "# music$acousticness_disc <- discretize(music$acousticness, method = \"cluster\", breaks = 5, labels = FALSE)\n",
    "# table(music$acousticness_disc)\n",
    "# music$acousticness_disc <- as.factor(music$acousticness_disc)\n",
    "\n",
    "plt.hist(music.acousticness)\n",
    "music.acousticness.describe()\n",
    "music[\"acousticness_disc\"] = np.digitize(music.acousticness, [0.08, 0.2, 0.5, 0.89])\n",
    "music.acousticness_disc = music.acousticness_disc.astype(str)\n",
    "music.acousticness_disc.value_counts()"
   ]
  },
  {
   "cell_type": "code",
   "execution_count": 19,
   "id": "6a711171-0fdb-4656-844f-36ca64e38859",
   "metadata": {},
   "outputs": [
    {
     "data": {
      "text/plain": [
       "4    46678\n",
       "3    39932\n",
       "0    39740\n",
       "2    27905\n",
       "1    20134\n",
       "Name: danceability_disc, dtype: int64"
      ]
     },
     "execution_count": 19,
     "metadata": {},
     "output_type": "execute_result"
    },
    {
     "data": {
      "image/png": "[encoded data removed]",
      "text/plain": [
       "<Figure size 432x288 with 1 Axes>"
      ]
     },
     "metadata": {
      "needs_background": "light"
     },
     "output_type": "display_data"
    }
   ],
   "source": [
    "# Danceability - discretize\n",
    "# hist(music$danceability)\n",
    "# summary(music$danceability)\n",
    "# hist(music$danceability, breaks = 20, main = \"K-Means\")\n",
    "# abline(v = discretize(music$danceability, method = \"cluster\", breaks = 5, \n",
    "#                       onlycuts = TRUE), col = \"red\")\n",
    "# music$danceability_disc <- discretize(music$danceability, method = \"cluster\", breaks = 5, labels = FALSE)\n",
    "# music$danceability_disc <- as.factor(music$danceability_disc)\n",
    "\n",
    "plt.hist(music.danceability)\n",
    "music.danceability.describe()\n",
    "music[\"danceability_disc\"] = np.digitize(music.danceability, [0.4, 0.47, 0.55, 0.66])\n",
    "music.danceability_disc = music.danceability_disc.astype(str)\n",
    "music.danceability_disc.value_counts()"
   ]
  },
  {
   "cell_type": "code",
   "execution_count": 20,
   "id": "d538e89d-e9b5-4763-8e1a-8cbb30809c90",
   "metadata": {},
   "outputs": [
    {
     "data": {
      "text/plain": [
       "1    42115\n",
       "2    37296\n",
       "3    33079\n",
       "0    32477\n",
       "4    29422\n",
       "Name: energy_disc, dtype: int64"
      ]
     },
     "execution_count": 20,
     "metadata": {},
     "output_type": "execute_result"
    },
    {
     "data": {
      "image/png": "[encoded data removed]",
      "text/plain": [
       "<Figure size 432x288 with 1 Axes>"
      ]
     },
     "metadata": {
      "needs_background": "light"
     },
     "output_type": "display_data"
    }
   ],
   "source": [
    "# Energy - transform or discretize\n",
    "# hist(music$energy)\n",
    "# library(bestNormalize)\n",
    "# BNobject <- bestNormalize(music$energy)\n",
    "# music$energy_trans <- BNobject$x.t\n",
    "# hist(music$energy_trans)\n",
    "# hist(music$energy, breaks = 20, main = \"K-Means\")\n",
    "# abline(v = discretize(music$energy, method = \"cluster\", breaks = 5, \n",
    "#                       onlycuts = TRUE), col = \"red\")\n",
    "# music$energy_disc <- discretize(music$energy, method = \"cluster\", breaks = 5, labels = FALSE)\n",
    "# music$energy_disc <- as.factor(music$energy_disc)\n",
    "\n",
    "plt.hist(music.energy)\n",
    "music.energy.describe()\n",
    "music[\"energy_disc\"] = np.digitize(music.energy, [0.2, 0.4, 0.6, 0.8])\n",
    "music.energy_disc = music.energy_disc.astype(str)\n",
    "music.energy_disc.value_counts()"
   ]
  },
  {
   "cell_type": "code",
   "execution_count": 21,
   "id": "d6bc9c5e-e4c5-4d7a-9832-6f0a49f4fbcd",
   "metadata": {},
   "outputs": [
    {
     "data": {
      "text/plain": [
       "0    91786\n",
       "1    31978\n",
       "4    24535\n",
       "2    14290\n",
       "3    11800\n",
       "Name: instrumentalness_disc, dtype: int64"
      ]
     },
     "execution_count": 21,
     "metadata": {},
     "output_type": "execute_result"
    },
    {
     "data": {
      "image/png": "[encoded data removed]",
      "text/plain": [
       "<Figure size 432x288 with 1 Axes>"
      ]
     },
     "metadata": {
      "needs_background": "light"
     },
     "output_type": "display_data"
    }
   ],
   "source": [
    "# Instrumentalness - discretize into 5 bins\n",
    "# hist(music$instrumentalness, breaks = 20, main = \"K-Means\")\n",
    "# abline(v = discretize(music$instrumentalness, method = \"cluster\", breaks = 5, \n",
    "#                       onlycuts = TRUE), col = \"red\")\n",
    "# music$instrumentalness_disc <- discretize(music$instrumentalness, method = \"cluster\", breaks = 5, labels = FALSE)\n",
    "# music$instrumentalness_disc <- as.factor(music$instrumentalness_disc)\n",
    "\n",
    "plt.hist(music.instrumentalness)\n",
    "music.instrumentalness.describe()\n",
    "music[\"instrumentalness_disc\"] = np.digitize(music.instrumentalness, [0.001, 0.1, 0.5, 0.8])\n",
    "music.instrumentalness_disc = music.instrumentalness_disc.astype(str)\n",
    "music.instrumentalness_disc.value_counts()"
   ]
  },
  {
   "cell_type": "code",
   "execution_count": 22,
   "id": "5e980296-075f-4faa-ae05-540c9851dde7",
   "metadata": {},
   "outputs": [
    {
     "data": {
      "text/plain": [
       "1    71246\n",
       "2    42656\n",
       "3    24118\n",
       "0    22946\n",
       "4    13423\n",
       "Name: liveness_disc, dtype: int64"
      ]
     },
     "execution_count": 22,
     "metadata": {},
     "output_type": "execute_result"
    },
    {
     "data": {
      "image/png": "[encoded data removed]",
      "text/plain": [
       "<Figure size 432x288 with 1 Axes>"
      ]
     },
     "metadata": {
      "needs_background": "light"
     },
     "output_type": "display_data"
    }
   ],
   "source": [
    "# Key - make factor\n",
    "# music$key <- as.factor(music$key)\n",
    "\n",
    "music.key = music.key.astype(str)\n",
    "\n",
    "# # Liveness - discretize into 5 bins\n",
    "# hist(music$liveness, breaks = 5)\n",
    "# table(discretize(music$liveness, method = \"cluster\", breaks = 5))\n",
    "# hist(music$liveness, breaks = 20, main = \"K-Means\")\n",
    "# abline(v = discretize(music$liveness, method = \"cluster\", breaks = 5, \n",
    "#                       onlycuts = TRUE), col = \"red\")\n",
    "# music$liveness_disc <- discretize(music$liveness, method = \"cluster\", breaks = 5, labels = FALSE)\n",
    "# music$liveness_disc <- as.factor(music$liveness_disc)\n",
    "\n",
    "plt.hist(music.liveness)\n",
    "music.liveness.describe()\n",
    "music[\"liveness_disc\"] = np.digitize(music.liveness, [0.08, 0.15, 0.3, 0.5])\n",
    "music.liveness_disc = music.liveness_disc.astype(str)\n",
    "music.liveness_disc.value_counts()"
   ]
  },
  {
   "cell_type": "code",
   "execution_count": 23,
   "id": "4381f99f-5130-4fe4-891e-7a374bcd71bc",
   "metadata": {},
   "outputs": [
    {
     "data": {
      "text/plain": [
       "3    62359\n",
       "2    54982\n",
       "1    27174\n",
       "0    15712\n",
       "4    14162\n",
       "Name: loudness_disc, dtype: int64"
      ]
     },
     "execution_count": 23,
     "metadata": {},
     "output_type": "execute_result"
    },
    {
     "data": {
      "image/png": "[encoded data removed]",
      "text/plain": [
       "<Figure size 432x288 with 1 Axes>"
      ]
     },
     "metadata": {
      "needs_background": "light"
     },
     "output_type": "display_data"
    }
   ],
   "source": [
    "# Loudness - discretize into 5 bins\n",
    "# hist(music$loudness)\n",
    "# table(discretize(music$loudness, method = \"cluster\", breaks = 5))\n",
    "# hist(music$loudness, breaks = 20, main = \"K-Means\")\n",
    "# abline(v = discretize(music$loudness, method = \"cluster\", breaks = 5, \n",
    "#                       onlycuts = TRUE), col = \"red\")\n",
    "# music$loudness_disc <- discretize(music$loudness, method = \"cluster\", breaks = 5, labels = FALSE)\n",
    "# music$loudness_disc <- as.factor(music$loudness_disc)\n",
    "\n",
    "plt.hist(music.loudness)\n",
    "music.loudness.describe()\n",
    "music[\"loudness_disc\"] = np.digitize(music.loudness, [-20, -15, -10, -5])\n",
    "music.loudness_disc = music.loudness_disc.astype(str)\n",
    "music.loudness_disc.value_counts()"
   ]
  },
  {
   "cell_type": "code",
   "execution_count": 24,
   "id": "dfd494c9-7522-43d7-aac9-1b399e0d6bb9",
   "metadata": {},
   "outputs": [
    {
     "data": {
      "text/plain": [
       "4    44458\n",
       "3    44443\n",
       "2    43094\n",
       "1    26266\n",
       "0    16128\n",
       "Name: speechiness_disc, dtype: int64"
      ]
     },
     "execution_count": 24,
     "metadata": {},
     "output_type": "execute_result"
    },
    {
     "data": {
      "image/png": "[encoded data removed]",
      "text/plain": [
       "<Figure size 432x288 with 1 Axes>"
      ]
     },
     "metadata": {
      "needs_background": "light"
     },
     "output_type": "display_data"
    }
   ],
   "source": [
    "# Speechiness - discretize into 5 bins\n",
    "# hist(music$speechiness)\n",
    "# table(discretize(music$speechiness, method = \"cluster\", breaks = 5))\n",
    "# hist(music$speechiness, breaks = 20, main = \"K-Means\")\n",
    "# abline(v = discretize(music$speechiness, method = \"cluster\", breaks = 5, \n",
    "#                       onlycuts = TRUE), col = \"red\")\n",
    "# music$speechiness_disc <- discretize(music$speechiness, method = \"cluster\", breaks = 5, labels = FALSE)\n",
    "# music$speechiness_disc <- as.factor(music$speechiness_disc)\n",
    "\n",
    "plt.hist(music.speechiness)\n",
    "music.speechiness.describe()\n",
    "music[\"speechiness_disc\"] = np.digitize(music.speechiness, [0.03, 0.035, 0.045, 0.075])\n",
    "music.speechiness_disc = music.speechiness_disc.astype(str)\n",
    "music.speechiness_disc.value_counts()"
   ]
  },
  {
   "cell_type": "code",
   "execution_count": 25,
   "id": "701f7824-eeac-4bdb-ae60-5585ba780e3e",
   "metadata": {},
   "outputs": [
    {
     "data": {
      "text/plain": [
       "4    44447\n",
       "3    44191\n",
       "2    42316\n",
       "0    25567\n",
       "1    17868\n",
       "Name: valence_disc, dtype: int64"
      ]
     },
     "execution_count": 25,
     "metadata": {},
     "output_type": "execute_result"
    },
    {
     "data": {
      "image/png": "[encoded data removed]",
      "text/plain": [
       "<Figure size 432x288 with 1 Axes>"
      ]
     },
     "metadata": {
      "needs_background": "light"
     },
     "output_type": "display_data"
    }
   ],
   "source": [
    "# Valence - discretize into 5 bins\n",
    "# table(discretize(music$valence, method = \"cluster\", breaks = 5))\n",
    "# hist(music$valence, breaks = 20, main = \"K-Means\")\n",
    "# abline(v = discretize(music$valence, method = \"cluster\", breaks = 5, \n",
    "#                       onlycuts = TRUE), col = \"red\")\n",
    "# music$valence_disc <- discretize(music$valence, method = \"cluster\", breaks = 5, labels = FALSE)\n",
    "# music$valence_disc <- as.factor(music$valence_disc)\n",
    "\n",
    "plt.hist(music.valence)\n",
    "music.valence.describe()\n",
    "music[\"valence_disc\"] = np.digitize(music.valence, [0.2, 0.31, 0.53, 0.74])\n",
    "music.valence_disc = music.valence_disc.astype(str)\n",
    "music.valence_disc.value_counts()"
   ]
  },
  {
   "cell_type": "code",
   "execution_count": 26,
   "id": "2780f456-75fe-437c-8117-a35240d6c09b",
   "metadata": {},
   "outputs": [],
   "source": [
    "# Mode - factor\n",
    "# music$mode <- as.factor(music$mode)\n",
    "\n",
    "music.mode = music[\"mode\"].astype(str)"
   ]
  },
  {
   "cell_type": "code",
   "execution_count": 27,
   "id": "a386e600-6d15-4ae4-94ad-e7ac520c0ac8",
   "metadata": {},
   "outputs": [
    {
     "data": {
      "text/plain": [
       "0    82401\n",
       "1    61384\n",
       "2    28398\n",
       "3     2206\n",
       "Name: popularity_disc, dtype: int64"
      ]
     },
     "execution_count": 27,
     "metadata": {},
     "output_type": "execute_result"
    },
    {
     "data": {
      "image/png": "[encoded data removed]",
      "text/plain": [
       "<Figure size 432x288 with 1 Axes>"
      ]
     },
     "metadata": {
      "needs_background": "light"
     },
     "output_type": "display_data"
    }
   ],
   "source": [
    "# Popularity - factor w/ 5 levels\n",
    "# music$popularity_disc <- discretize(music$popularity, method = \"interval\", breaks = 3, labels = FALSE)\n",
    "# music$popularity_disc <- as.factor(music$popularity_disc)\n",
    "# summary(music$popularity)\n",
    "# table(music$popularity_disc)\n",
    "\n",
    "plt.hist(music.popularity)\n",
    "music.popularity.describe()\n",
    "music[\"popularity_disc\"] = np.digitize(music.popularity, [24, 49, 74])\n",
    "music.popularity_disc = music.popularity_disc.astype(str)\n",
    "music.popularity_disc.value_counts()"
   ]
  },
  {
   "cell_type": "code",
   "execution_count": 28,
   "id": "73dec986-81de-45de-8d9e-4982f82f245f",
   "metadata": {},
   "outputs": [],
   "source": [
    "#Split into 2 datasets: All Numeric, Discretized\n",
    "# music_raw <- music[which(colnames(music) %in% c(\"acousticness\", \"danceability\", \"duration_ms\", \"energy\", \"explicit\", \"instrumentalness\", \n",
    "#\"key\", \"liveness\", \"loudness\", \"mode\", \"popularity_disc\", \"release_date\", \"speechiness\", \"tempo\", \"valence\", \"year\", \"multi_artist\"))]\n",
    "\n",
    "# music_disc <- music[which(colnames(music) %in% c(\"popularity_disc\", \"decade\", \"temp_disc\", \"multi_artist\", \"log_duration_ms\", \"danceability_disc\", \n",
    "#\"explicit\", \"instrumentalness_disc\", \"key\", \"liveness_disc\", \"loudness_disc\", \"speechiness_disc\", \"valence_disc\", \"acousticness_disc\", \"energy_disc\",\n",
    "#\"mode\"))]\n",
    "\n",
    "music_raw = music[[\"acousticness\", \"danceability\", \"duration_ms\", \"energy\", \"explicit\", \"instrumentalness\",\"key\", \"liveness\", \"loudness\", \"mode\", \n",
    "                   \"popularity_disc\", \"release_date\", \"speechiness\", \"tempo\", \"valence\", \"year\", \"multi_artist\"]]\n",
    "\n",
    "music_disc = music[[\"popularity_disc\", \"decade\", \"tempo_disc\", \"multi_artist\", \"log_duration_ms\", \"danceability_disc\", \"explicit\", \n",
    "                    \"instrumentalness_disc\", \"key\", \"liveness_disc\", \"loudness_disc\", \"speechiness_disc\", \"valence_disc\", \"acousticness_disc\", \n",
    "                    \"energy_disc\", \"mode\"]]"
   ]
  },
  {
   "cell_type": "code",
   "execution_count": 29,
   "id": "bb407410",
   "metadata": {},
   "outputs": [],
   "source": [
    "# split into training and holdout\n",
    "X = music_disc.loc[:, music_disc.columns != 'popularity_disc']\n",
    "y = music_disc.loc[:, music_disc.columns == 'popularity_disc']\n",
    "X_train, X_test, y_train, y_test = train_test_split(X, y, test_size=0.3, random_state=1) # 70% training and 30% test"
   ]
  },
  {
   "cell_type": "code",
   "execution_count": 30,
   "id": "60edde78",
   "metadata": {},
   "outputs": [
    {
     "data": {
      "text/plain": [
       "47.07456467305082"
      ]
     },
     "execution_count": 30,
     "metadata": {},
     "output_type": "execute_result"
    }
   ],
   "source": [
    "#Naive Model\n",
    "y_test['popularity_disc'].value_counts()\n",
    "24628/(len(y_test))*100  #47.07456467305082 accuracy"
   ]
  },
  {
   "cell_type": "code",
   "execution_count": 31,
   "id": "d844c6cc",
   "metadata": {},
   "outputs": [],
   "source": [
    "# create tuning parameter grid function\n",
    "def expand_grid(dictionary):\n",
    "   return pd.DataFrame([i for i in product(*dictionary.values())], \n",
    "                       columns=dictionary.keys())"
   ]
  },
  {
   "cell_type": "code",
   "execution_count": 32,
   "id": "ef186d2f",
   "metadata": {},
   "outputs": [
    {
     "data": {
      "text/plain": [
       "accuracy     0.761416\n",
       "criterion        gini\n",
       "splitter         best\n",
       "max_depth          10\n",
       "Name: 10, dtype: object"
      ]
     },
     "execution_count": 32,
     "metadata": {},
     "output_type": "execute_result"
    }
   ],
   "source": [
    "# DECISION TREE\n",
    "# Create tuning grid for Decision Tree\n",
    "dictionary = {'criterion': ['entropy','gini'],\n",
    "             'splitter': ['random','best'],\n",
    "             'max_depth': [8,10,25]}\n",
    "\n",
    "grid = expand_grid(dictionary)\n",
    "\n",
    "\n",
    "# CREATE MODEL\n",
    "accuracies = []\n",
    "for i in grid.index:\n",
    "    dt = DecisionTreeClassifier(criterion = grid.iloc[i,0]  , splitter = grid.iloc[i,1], max_depth = grid.iloc[i,2])\n",
    "\n",
    "    dt = dt.fit(X_train,y_train)\n",
    "\n",
    "    accuracies.append(dt.score(X_test,y_test))\n",
    "\n",
    "    \n",
    "# CHECK ACCURACIES AND WHICH MODEL IS BEST\n",
    "dt_accuracies = pd.DataFrame(accuracies)\n",
    "dt_accuracies = dt_accuracies.rename(columns={0: \"accuracy\"})\n",
    "dt_accuracies['criterion'] = grid.iloc[:,0]\n",
    "dt_accuracies['splitter'] = grid.iloc[:,1]\n",
    "dt_accuracies['max_depth'] = grid.iloc[:,2]\n",
    "dt_accuracies\n",
    "\n",
    "best_dt_model = dt_accuracies.iloc[dt_accuracies['accuracy'].idxmax()]\n",
    "best_dt_model\n",
    "# 0.761664 accuracy"
   ]
  },
  {
   "cell_type": "code",
   "execution_count": 33,
   "id": "e3fa1bd8",
   "metadata": {},
   "outputs": [
    {
     "data": {
      "text/plain": [
       "0.5487814522196701"
      ]
     },
     "execution_count": 33,
     "metadata": {},
     "output_type": "execute_result"
    }
   ],
   "source": [
    "# RANDOM FOREST\n",
    "# CREATE MODEL\n",
    "\n",
    "rf = RandomForestRegressor(n_estimators = 2000, random_state = 42, max_features = 'sqrt', bootstrap = True)\n",
    "\n",
    "rf = rf.fit(X_train,y_train.values.ravel())\n",
    "    \n",
    "accuracy = rf.score(X_test,y_test)\n",
    "\n",
    "best_rf_model = accuracy\n",
    "best_rf_model\n",
    "# 0.5487814522196701 accuracy"
   ]
  },
  {
   "cell_type": "code",
   "execution_count": 34,
   "id": "26483535",
   "metadata": {},
   "outputs": [
    {
     "data": {
      "text/html": [
       "<div>\n",
       "<style scoped>\n",
       "    .dataframe tbody tr th:only-of-type {\n",
       "        vertical-align: middle;\n",
       "    }\n",
       "\n",
       "    .dataframe tbody tr th {\n",
       "        vertical-align: top;\n",
       "    }\n",
       "\n",
       "    .dataframe thead th {\n",
       "        text-align: right;\n",
       "    }\n",
       "</style>\n",
       "<table border=\"1\" class=\"dataframe\">\n",
       "  <thead>\n",
       "    <tr style=\"text-align: right;\">\n",
       "      <th></th>\n",
       "      <th>feature</th>\n",
       "      <th>importance</th>\n",
       "      <th>cum_importance</th>\n",
       "    </tr>\n",
       "  </thead>\n",
       "  <tbody>\n",
       "    <tr>\n",
       "      <th>0</th>\n",
       "      <td>decade</td>\n",
       "      <td>0.291001</td>\n",
       "      <td>0.291001</td>\n",
       "    </tr>\n",
       "    <tr>\n",
       "      <th>3</th>\n",
       "      <td>log_duration_ms</td>\n",
       "      <td>0.148391</td>\n",
       "      <td>0.439392</td>\n",
       "    </tr>\n",
       "    <tr>\n",
       "      <th>12</th>\n",
       "      <td>acousticness_disc</td>\n",
       "      <td>0.076291</td>\n",
       "      <td>0.515684</td>\n",
       "    </tr>\n",
       "    <tr>\n",
       "      <th>7</th>\n",
       "      <td>key</td>\n",
       "      <td>0.068363</td>\n",
       "      <td>0.584046</td>\n",
       "    </tr>\n",
       "    <tr>\n",
       "      <th>6</th>\n",
       "      <td>instrumentalness_disc</td>\n",
       "      <td>0.061948</td>\n",
       "      <td>0.645994</td>\n",
       "    </tr>\n",
       "    <tr>\n",
       "      <th>13</th>\n",
       "      <td>energy_disc</td>\n",
       "      <td>0.055455</td>\n",
       "      <td>0.701449</td>\n",
       "    </tr>\n",
       "    <tr>\n",
       "      <th>9</th>\n",
       "      <td>loudness_disc</td>\n",
       "      <td>0.046903</td>\n",
       "      <td>0.748352</td>\n",
       "    </tr>\n",
       "    <tr>\n",
       "      <th>10</th>\n",
       "      <td>speechiness_disc</td>\n",
       "      <td>0.043637</td>\n",
       "      <td>0.791989</td>\n",
       "    </tr>\n",
       "  </tbody>\n",
       "</table>\n",
       "</div>"
      ],
      "text/plain": [
       "                  feature  importance  cum_importance\n",
       "0                  decade    0.291001        0.291001\n",
       "3         log_duration_ms    0.148391        0.439392\n",
       "12      acousticness_disc    0.076291        0.515684\n",
       "7                     key    0.068363        0.584046\n",
       "6   instrumentalness_disc    0.061948        0.645994\n",
       "13            energy_disc    0.055455        0.701449\n",
       "9           loudness_disc    0.046903        0.748352\n",
       "10       speechiness_disc    0.043637        0.791989"
      ]
     },
     "execution_count": 34,
     "metadata": {},
     "output_type": "execute_result"
    }
   ],
   "source": [
    "## Feature Importance values and plots for RF model\n",
    "importances_rf = pd.DataFrame({'feature': X.columns,\n",
    "                            'importance': rf.feature_importances_})\n",
    "importances_rf = importances_rf.sort_values('importance', ascending=False)\n",
    "importances_rf['cum_importance'] = importances_rf.importance.cumsum()\n",
    "importances_rf.loc[importances_rf.cum_importance <= .80]"
   ]
  },
  {
   "cell_type": "code",
   "execution_count": 35,
   "id": "72b6b107",
   "metadata": {},
   "outputs": [
    {
     "data": {
      "image/png": "[encoded data removed]",
      "text/plain": [
       "<Figure size 432x288 with 1 Axes>"
      ]
     },
     "metadata": {
      "needs_background": "light"
     },
     "output_type": "display_data"
    }
   ],
   "source": [
    "imp_rf = importances_rf.set_index('feature')\n",
    "imp_rf.plot(kind='bar');"
   ]
  },
  {
   "cell_type": "markdown",
   "metadata": {},
   "source": [
    "# Support Vector Machine"
   ]
  },
  {
   "cell_type": "code",
   "execution_count": 36,
   "metadata": {},
   "outputs": [],
   "source": [
    "from sklearn.model_selection import train_test_split"
   ]
  },
  {
   "cell_type": "code",
   "execution_count": 37,
   "metadata": {},
   "outputs": [],
   "source": [
    "# split into training and holdout\n",
    "X = music_disc.loc[:, music_disc.columns != 'popularity_disc']\n",
    "y = music_disc.loc[:, music_disc.columns == 'popularity_disc']\n",
    "X_train, X_test, y_train, y_test = train_test_split(X, y, test_size=0.3, random_state=1) # 70% training and 30% test"
   ]
  },
  {
   "cell_type": "code",
   "execution_count": 38,
   "metadata": {},
   "outputs": [],
   "source": [
    "from sklearn.svm import SVC"
   ]
  },
  {
   "cell_type": "code",
   "execution_count": 106,
   "metadata": {},
   "outputs": [],
   "source": [
    "modelSVC = SVC()"
   ]
  },
  {
   "cell_type": "code",
   "execution_count": 107,
   "metadata": {},
   "outputs": [
    {
     "name": "stderr",
     "output_type": "stream",
     "text": [
      "/Library/Frameworks/Python.framework/Versions/3.9/lib/python3.9/site-packages/sklearn/utils/validation.py:63: DataConversionWarning: A column-vector y was passed when a 1d array was expected. Please change the shape of y to (n_samples, ), for example using ravel().\n",
      "  return f(*args, **kwargs)\n"
     ]
    },
    {
     "data": {
      "text/plain": [
       "SVC()"
      ]
     },
     "execution_count": 107,
     "metadata": {},
     "output_type": "execute_result"
    }
   ],
   "source": [
    "# Train the Model\n",
    "\n",
    "# X_train, X_test, y_train, y_test\n",
    "\n",
    "modelSVC.fit(X_train, y_train)"
   ]
  },
  {
   "cell_type": "code",
   "execution_count": 108,
   "metadata": {},
   "outputs": [],
   "source": [
    "#Make predictions with the model\n",
    "\n",
    "predictions = modelSVC.predict(X_test)"
   ]
  },
  {
   "cell_type": "code",
   "execution_count": 109,
   "metadata": {},
   "outputs": [],
   "source": [
    "#Measure the performance of our model\n",
    "\n",
    "from sklearn.metrics import classification_report\n",
    "\n",
    "from sklearn.metrics import confusion_matrix"
   ]
  },
  {
   "cell_type": "code",
   "execution_count": 110,
   "metadata": {},
   "outputs": [
    {
     "name": "stderr",
     "output_type": "stream",
     "text": [
      "/Library/Frameworks/Python.framework/Versions/3.9/lib/python3.9/site-packages/sklearn/metrics/_classification.py:1248: UndefinedMetricWarning: Precision and F-score are ill-defined and being set to 0.0 in labels with no predicted samples. Use `zero_division` parameter to control this behavior.\n",
      "  _warn_prf(average, modifier, msg_start, len(result))\n",
      "/Library/Frameworks/Python.framework/Versions/3.9/lib/python3.9/site-packages/sklearn/metrics/_classification.py:1248: UndefinedMetricWarning: Precision and F-score are ill-defined and being set to 0.0 in labels with no predicted samples. Use `zero_division` parameter to control this behavior.\n",
      "  _warn_prf(average, modifier, msg_start, len(result))\n"
     ]
    },
    {
     "name": "stdout",
     "output_type": "stream",
     "text": [
      "              precision    recall  f1-score   support\n",
      "\n",
      "           0       0.68      0.95      0.79     24628\n",
      "           1       0.75      0.74      0.74     18398\n",
      "           2       0.00      0.00      0.00      8609\n",
      "           3       0.00      0.00      0.00       682\n",
      "\n",
      "    accuracy                           0.70     52317\n",
      "   macro avg       0.36      0.42      0.38     52317\n",
      "weighted avg       0.58      0.70      0.63     52317\n",
      "\n"
     ]
    },
    {
     "name": "stderr",
     "output_type": "stream",
     "text": [
      "/Library/Frameworks/Python.framework/Versions/3.9/lib/python3.9/site-packages/sklearn/metrics/_classification.py:1248: UndefinedMetricWarning: Precision and F-score are ill-defined and being set to 0.0 in labels with no predicted samples. Use `zero_division` parameter to control this behavior.\n",
      "  _warn_prf(average, modifier, msg_start, len(result))\n"
     ]
    }
   ],
   "source": [
    "print(classification_report(y_test, predictions))"
   ]
  },
  {
   "cell_type": "code",
   "execution_count": 73,
   "metadata": {},
   "outputs": [],
   "source": [
    "# precision    recall  f1-score   support\n",
    "#\n",
    "#           0       0.68      0.95      0.79     24628\n",
    "#           1       0.75      0.74      0.74     18398\n",
    "#           2       0.00      0.00      0.00      8609\n",
    "#           3       0.00      0.00      0.00       682\n",
    "\n",
    "#    accuracy                           0.70     52317\n",
    "#   macro avg       0.36      0.42      0.38     52317\n",
    "#weighted avg       0.58      0.70      0.63     52317"
   ]
  },
  {
   "cell_type": "code",
   "execution_count": 84,
   "metadata": {},
   "outputs": [
    {
     "name": "stdout",
     "output_type": "stream",
     "text": [
      "[[23294  1334     0     0]\n",
      " [ 4809 13589     0     0]\n",
      " [ 5380  3229     0     0]\n",
      " [  614    68     0     0]]\n"
     ]
    }
   ],
   "source": [
    "print(confusion_matrix(y_test, predictions))"
   ]
  },
  {
   "cell_type": "code",
   "execution_count": 46,
   "metadata": {},
   "outputs": [],
   "source": [
    "#[[23294  1334     0     0]\n",
    "# [ 4809 13589     0     0]\n",
    "# [ 5380  3229     0     0]\n",
    "# [  614    68     0     0]]"
   ]
  },
  {
   "cell_type": "code",
   "execution_count": 75,
   "id": "8cbb02c7",
   "metadata": {},
   "outputs": [],
   "source": [
    "from sklearn import metrics"
   ]
  },
  {
   "cell_type": "code",
   "execution_count": 85,
   "id": "e32c8417",
   "metadata": {},
   "outputs": [
    {
     "name": "stdout",
     "output_type": "stream",
     "text": [
      "Accuracy: 0.704990729590764\n"
     ]
    }
   ],
   "source": [
    "print(\"Accuracy:\",metrics.accuracy_score(y_test, predictions))"
   ]
  },
  {
   "cell_type": "code",
   "execution_count": 47,
   "id": "7ac5a04e",
   "metadata": {},
   "outputs": [],
   "source": [
    "######### Get the VIP for SVM ############"
   ]
  },
  {
   "cell_type": "code",
   "execution_count": 48,
   "id": "462bd8a5",
   "metadata": {},
   "outputs": [],
   "source": [
    "# split into training and holdout\n",
    "# X = music_disc.loc[:, music_disc.columns != 'popularity_disc']\n",
    "# y = music_disc.loc[:, music_disc.columns == 'popularity_disc']\n",
    "# X_train, X_test, y_train, y_test = train_test_split(X, y, test_size=0.3, random_state=1) # 70% training and 30% test\n"
   ]
  },
  {
   "cell_type": "code",
   "execution_count": 103,
   "id": "ada87ddb",
   "metadata": {},
   "outputs": [
    {
     "data": {
      "text/plain": [
       "<bound method BaseSVC.decision_function of SVC()>"
      ]
     },
     "execution_count": 103,
     "metadata": {},
     "output_type": "execute_result"
    }
   ],
   "source": [
    "modelSVC.decision_function"
   ]
  },
  {
   "cell_type": "code",
   "execution_count": 104,
   "id": "cc022380",
   "metadata": {},
   "outputs": [
    {
     "data": {
      "text/plain": [
       "'ovr'"
      ]
     },
     "execution_count": 104,
     "metadata": {},
     "output_type": "execute_result"
    }
   ],
   "source": [
    "modelSVC.decision_function_shape"
   ]
  },
  {
   "cell_type": "code",
   "execution_count": 105,
   "id": "ced23b3d",
   "metadata": {},
   "outputs": [],
   "source": [
    "from sklearn.model_selection import StratifiedShuffleSplit\n",
    "from sklearn.model_selection import GridSearchCV"
   ]
  },
  {
   "cell_type": "code",
   "execution_count": null,
   "id": "d760a141",
   "metadata": {},
   "outputs": [],
   "source": []
  },
  {
   "cell_type": "code",
   "execution_count": null,
   "metadata": {},
   "outputs": [],
   "source": []
  },
  {
   "cell_type": "code",
   "execution_count": null,
   "id": "e521aa56",
   "metadata": {},
   "outputs": [],
   "source": []
  },
  {
   "cell_type": "code",
   "execution_count": null,
   "id": "f1d4d86b",
   "metadata": {},
   "outputs": [],
   "source": []
  },
  {
   "cell_type": "code",
   "execution_count": 93,
   "id": "b3afd4eb",
   "metadata": {},
   "outputs": [],
   "source": [
    "# Cat Boost\n",
    "\n",
    "from catboost import CatBoostClassifier\n",
    "XGcat = CatBoostClassifier(n_estimators=100)"
   ]
  },
  {
   "cell_type": "code",
   "execution_count": 94,
   "id": "fbc69056",
   "metadata": {},
   "outputs": [
    {
     "name": "stdout",
     "output_type": "stream",
     "text": [
      "Learning rate set to 0.5\n",
      "0:\tlearn: 0.8308723\ttotal: 81.3ms\tremaining: 8.05s\n",
      "1:\tlearn: 0.7254754\ttotal: 101ms\tremaining: 4.97s\n",
      "2:\tlearn: 0.6709696\ttotal: 121ms\tremaining: 3.91s\n",
      "3:\tlearn: 0.6402826\ttotal: 141ms\tremaining: 3.37s\n",
      "4:\tlearn: 0.6213259\ttotal: 160ms\tremaining: 3.04s\n",
      "5:\tlearn: 0.6123167\ttotal: 180ms\tremaining: 2.83s\n",
      "6:\tlearn: 0.6040364\ttotal: 201ms\tremaining: 2.67s\n",
      "7:\tlearn: 0.5990627\ttotal: 222ms\tremaining: 2.56s\n",
      "8:\tlearn: 0.5962104\ttotal: 244ms\tremaining: 2.46s\n",
      "9:\tlearn: 0.5938016\ttotal: 265ms\tremaining: 2.39s\n",
      "10:\tlearn: 0.5911697\ttotal: 285ms\tremaining: 2.31s\n",
      "11:\tlearn: 0.5884617\ttotal: 305ms\tremaining: 2.23s\n",
      "12:\tlearn: 0.5866350\ttotal: 323ms\tremaining: 2.16s\n",
      "13:\tlearn: 0.5851808\ttotal: 341ms\tremaining: 2.1s\n",
      "14:\tlearn: 0.5835846\ttotal: 361ms\tremaining: 2.05s\n",
      "15:\tlearn: 0.5825254\ttotal: 380ms\tremaining: 2s\n",
      "16:\tlearn: 0.5808816\ttotal: 403ms\tremaining: 1.97s\n",
      "17:\tlearn: 0.5797665\ttotal: 425ms\tremaining: 1.94s\n",
      "18:\tlearn: 0.5786131\ttotal: 449ms\tremaining: 1.91s\n",
      "19:\tlearn: 0.5778151\ttotal: 470ms\tremaining: 1.88s\n",
      "20:\tlearn: 0.5764660\ttotal: 493ms\tremaining: 1.85s\n",
      "21:\tlearn: 0.5755068\ttotal: 515ms\tremaining: 1.83s\n",
      "22:\tlearn: 0.5749218\ttotal: 536ms\tremaining: 1.79s\n",
      "23:\tlearn: 0.5738876\ttotal: 559ms\tremaining: 1.77s\n",
      "24:\tlearn: 0.5731244\ttotal: 582ms\tremaining: 1.75s\n",
      "25:\tlearn: 0.5724787\ttotal: 601ms\tremaining: 1.71s\n",
      "26:\tlearn: 0.5718335\ttotal: 620ms\tremaining: 1.68s\n",
      "27:\tlearn: 0.5711218\ttotal: 638ms\tremaining: 1.64s\n",
      "28:\tlearn: 0.5698043\ttotal: 659ms\tremaining: 1.61s\n",
      "29:\tlearn: 0.5688378\ttotal: 679ms\tremaining: 1.58s\n",
      "30:\tlearn: 0.5680211\ttotal: 696ms\tremaining: 1.55s\n",
      "31:\tlearn: 0.5673377\ttotal: 714ms\tremaining: 1.52s\n",
      "32:\tlearn: 0.5667286\ttotal: 732ms\tremaining: 1.49s\n",
      "33:\tlearn: 0.5661193\ttotal: 751ms\tremaining: 1.46s\n",
      "34:\tlearn: 0.5655521\ttotal: 772ms\tremaining: 1.43s\n",
      "35:\tlearn: 0.5650241\ttotal: 793ms\tremaining: 1.41s\n",
      "36:\tlearn: 0.5643824\ttotal: 811ms\tremaining: 1.38s\n",
      "37:\tlearn: 0.5639463\ttotal: 832ms\tremaining: 1.36s\n",
      "38:\tlearn: 0.5633917\ttotal: 852ms\tremaining: 1.33s\n",
      "39:\tlearn: 0.5627768\ttotal: 874ms\tremaining: 1.31s\n",
      "40:\tlearn: 0.5621821\ttotal: 894ms\tremaining: 1.29s\n",
      "41:\tlearn: 0.5616818\ttotal: 913ms\tremaining: 1.26s\n",
      "42:\tlearn: 0.5610970\ttotal: 931ms\tremaining: 1.23s\n",
      "43:\tlearn: 0.5607490\ttotal: 951ms\tremaining: 1.21s\n",
      "44:\tlearn: 0.5604068\ttotal: 969ms\tremaining: 1.18s\n",
      "45:\tlearn: 0.5599840\ttotal: 988ms\tremaining: 1.16s\n",
      "46:\tlearn: 0.5594385\ttotal: 1.01s\tremaining: 1.14s\n",
      "47:\tlearn: 0.5588414\ttotal: 1.03s\tremaining: 1.11s\n",
      "48:\tlearn: 0.5583757\ttotal: 1.04s\tremaining: 1.09s\n",
      "49:\tlearn: 0.5578589\ttotal: 1.06s\tremaining: 1.06s\n",
      "50:\tlearn: 0.5573375\ttotal: 1.08s\tremaining: 1.04s\n",
      "51:\tlearn: 0.5568567\ttotal: 1.1s\tremaining: 1.02s\n",
      "52:\tlearn: 0.5563972\ttotal: 1.12s\tremaining: 992ms\n",
      "53:\tlearn: 0.5557965\ttotal: 1.14s\tremaining: 970ms\n",
      "54:\tlearn: 0.5554114\ttotal: 1.16s\tremaining: 948ms\n",
      "55:\tlearn: 0.5550965\ttotal: 1.17s\tremaining: 923ms\n",
      "56:\tlearn: 0.5547954\ttotal: 1.19s\tremaining: 899ms\n",
      "57:\tlearn: 0.5543285\ttotal: 1.21s\tremaining: 877ms\n",
      "58:\tlearn: 0.5539811\ttotal: 1.23s\tremaining: 855ms\n",
      "59:\tlearn: 0.5535409\ttotal: 1.25s\tremaining: 832ms\n",
      "60:\tlearn: 0.5530617\ttotal: 1.27s\tremaining: 812ms\n",
      "61:\tlearn: 0.5524287\ttotal: 1.29s\tremaining: 792ms\n",
      "62:\tlearn: 0.5521087\ttotal: 1.31s\tremaining: 770ms\n",
      "63:\tlearn: 0.5517511\ttotal: 1.33s\tremaining: 748ms\n",
      "64:\tlearn: 0.5514813\ttotal: 1.35s\tremaining: 726ms\n",
      "65:\tlearn: 0.5510903\ttotal: 1.37s\tremaining: 705ms\n",
      "66:\tlearn: 0.5507833\ttotal: 1.39s\tremaining: 683ms\n",
      "67:\tlearn: 0.5503587\ttotal: 1.41s\tremaining: 661ms\n",
      "68:\tlearn: 0.5499634\ttotal: 1.42s\tremaining: 640ms\n",
      "69:\tlearn: 0.5494814\ttotal: 1.44s\tremaining: 618ms\n",
      "70:\tlearn: 0.5491150\ttotal: 1.46s\tremaining: 598ms\n",
      "71:\tlearn: 0.5488612\ttotal: 1.48s\tremaining: 577ms\n",
      "72:\tlearn: 0.5484965\ttotal: 1.5s\tremaining: 555ms\n",
      "73:\tlearn: 0.5479702\ttotal: 1.52s\tremaining: 534ms\n",
      "74:\tlearn: 0.5475944\ttotal: 1.54s\tremaining: 514ms\n",
      "75:\tlearn: 0.5471890\ttotal: 1.56s\tremaining: 493ms\n",
      "76:\tlearn: 0.5468886\ttotal: 1.58s\tremaining: 472ms\n",
      "77:\tlearn: 0.5465747\ttotal: 1.6s\tremaining: 451ms\n",
      "78:\tlearn: 0.5462621\ttotal: 1.62s\tremaining: 430ms\n",
      "79:\tlearn: 0.5459965\ttotal: 1.64s\tremaining: 409ms\n",
      "80:\tlearn: 0.5457574\ttotal: 1.65s\tremaining: 388ms\n",
      "81:\tlearn: 0.5454508\ttotal: 1.67s\tremaining: 368ms\n",
      "82:\tlearn: 0.5449835\ttotal: 1.69s\tremaining: 347ms\n",
      "83:\tlearn: 0.5445509\ttotal: 1.72s\tremaining: 327ms\n",
      "84:\tlearn: 0.5442242\ttotal: 1.73s\tremaining: 306ms\n",
      "85:\tlearn: 0.5440173\ttotal: 1.75s\tremaining: 285ms\n",
      "86:\tlearn: 0.5436775\ttotal: 1.77s\tremaining: 265ms\n",
      "87:\tlearn: 0.5432756\ttotal: 1.79s\tremaining: 245ms\n",
      "88:\tlearn: 0.5428848\ttotal: 1.81s\tremaining: 224ms\n",
      "89:\tlearn: 0.5425286\ttotal: 1.83s\tremaining: 204ms\n",
      "90:\tlearn: 0.5421380\ttotal: 1.86s\tremaining: 184ms\n",
      "91:\tlearn: 0.5416720\ttotal: 1.88s\tremaining: 164ms\n",
      "92:\tlearn: 0.5413797\ttotal: 1.9s\tremaining: 143ms\n",
      "93:\tlearn: 0.5410254\ttotal: 1.92s\tremaining: 123ms\n",
      "94:\tlearn: 0.5407571\ttotal: 1.94s\tremaining: 102ms\n",
      "95:\tlearn: 0.5405001\ttotal: 1.96s\tremaining: 81.8ms\n",
      "96:\tlearn: 0.5401010\ttotal: 1.98s\tremaining: 61.3ms\n",
      "97:\tlearn: 0.5397305\ttotal: 2s\tremaining: 40.8ms\n",
      "98:\tlearn: 0.5394530\ttotal: 2.02s\tremaining: 20.4ms\n",
      "99:\tlearn: 0.5391888\ttotal: 2.04s\tremaining: 0us\n"
     ]
    },
    {
     "data": {
      "text/plain": [
       "<catboost.core.CatBoostClassifier at 0x15549d3d0>"
      ]
     },
     "execution_count": 94,
     "metadata": {},
     "output_type": "execute_result"
    }
   ],
   "source": [
    "XGcat.fit(X_train, y_train)"
   ]
  },
  {
   "cell_type": "code",
   "execution_count": 95,
   "id": "8d5b9f65",
   "metadata": {},
   "outputs": [
    {
     "name": "stdout",
     "output_type": "stream",
     "text": [
      "              precision    recall  f1-score   support\n",
      "\n",
      "           0       0.86      0.86      0.86     24628\n",
      "           1       0.71      0.81      0.76     18398\n",
      "           2       0.62      0.47      0.53      8609\n",
      "           3       0.42      0.09      0.15       682\n",
      "\n",
      "    accuracy                           0.77     52317\n",
      "   macro avg       0.65      0.56      0.57     52317\n",
      "weighted avg       0.76      0.77      0.76     52317\n",
      "\n"
     ]
    }
   ],
   "source": [
    "# X_train, X_test, y_train, y_test\n",
    "print(classification_report(y_test,XGcat.predict(X_test)))\n",
    "\n",
    "#                precision    recall  f1-score   support\n",
    "#\n",
    "#           0       0.86      0.86      0.86     24628\n",
    "#           1       0.71      0.81      0.76     18398\n",
    "#           2       0.62      0.47      0.53      8609\n",
    "#           3       0.42      0.09      0.15       682\n",
    "\n",
    "#    accuracy                           0.77     52317\n",
    "#   macro avg       0.65      0.56      0.57     52317\n",
    "#weighted avg       0.76      0.77      0.76     52317"
   ]
  },
  {
   "cell_type": "code",
   "execution_count": 96,
   "id": "bcbea0c8",
   "metadata": {},
   "outputs": [],
   "source": [
    "# get importance\n",
    "importance = XGcat.feature_importances_"
   ]
  },
  {
   "cell_type": "code",
   "execution_count": 97,
   "id": "6e043e88",
   "metadata": {},
   "outputs": [
    {
     "name": "stdout",
     "output_type": "stream",
     "text": [
      "Feature: 0, Score: 39.11491\n",
      "Feature: 1, Score: 3.54325\n",
      "Feature: 2, Score: 1.60405\n",
      "Feature: 3, Score: 9.96120\n",
      "Feature: 4, Score: 5.46436\n",
      "Feature: 5, Score: 1.41319\n",
      "Feature: 6, Score: 9.09986\n",
      "Feature: 7, Score: 3.86759\n",
      "Feature: 8, Score: 4.14806\n",
      "Feature: 9, Score: 4.47113\n",
      "Feature: 10, Score: 5.03660\n",
      "Feature: 11, Score: 3.68511\n",
      "Feature: 12, Score: 4.36306\n",
      "Feature: 13, Score: 3.14006\n",
      "Feature: 14, Score: 1.08755\n"
     ]
    }
   ],
   "source": [
    "# summarize feature importance\n",
    "for i,v in enumerate(importance):\n",
    "\tprint('Feature: %0d, Score: %.5f' % (i,v))"
   ]
  },
  {
   "cell_type": "code",
   "execution_count": 99,
   "id": "1a60bae6",
   "metadata": {},
   "outputs": [],
   "source": [
    "from matplotlib import pyplot"
   ]
  },
  {
   "cell_type": "code",
   "execution_count": 100,
   "id": "8a1d3d54",
   "metadata": {},
   "outputs": [
    {
     "data": {
      "image/png": "[encoded data removed]",
      "text/plain": [
       "<Figure size 432x288 with 1 Axes>"
      ]
     },
     "metadata": {
      "needs_background": "light"
     },
     "output_type": "display_data"
    }
   ],
   "source": [
    "# plot feature importance\n",
    "pyplot.bar([x for x in range(len(importance))], importance)\n",
    "pyplot.show()"
   ]
  },
  {
   "cell_type": "code",
   "execution_count": 101,
   "id": "14dbec7c",
   "metadata": {},
   "outputs": [
    {
     "data": {
      "text/plain": [
       "<bound method NDFrame.head of         decade tempo_disc multi_artist  log_duration_ms danceability_disc  \\\n",
       "0         1920          4            0        12.033699                 3   \n",
       "1         1920          1            0        11.919723                 4   \n",
       "2         1920          2            0        12.006566                 3   \n",
       "3         1920          3            0        12.952967                 4   \n",
       "4         1920          3            0        12.015057                 4   \n",
       "...        ...        ...          ...              ...               ...   \n",
       "174384    2020          3            1        11.902363                 4   \n",
       "174385    2020          2            0        11.882556                 1   \n",
       "174386    2020          2            0        12.292924                 4   \n",
       "174387    2020          4            0        12.404924                 1   \n",
       "174388    2020          2            0        12.194557                 4   \n",
       "\n",
       "       explicit instrumentalness_disc key liveness_disc loudness_disc  \\\n",
       "0             0                     0   5             3             2   \n",
       "1             0                     1   5             1             3   \n",
       "2             0                     0   0             4             2   \n",
       "3             0                     4   2             1             3   \n",
       "4             1                     0  10             3             3   \n",
       "...         ...                   ...  ..           ...           ...   \n",
       "174384        0                     0   6             2             3   \n",
       "174385        0                     0   4             2             2   \n",
       "174386        0                     4   4             1             2   \n",
       "174387        1                     0   0             1             2   \n",
       "174388        0                     4   7             2             2   \n",
       "\n",
       "       speechiness_disc valence_disc acousticness_disc energy_disc  mode  \n",
       "0                     4            3                 4           1     0  \n",
       "1                     3            4                 3           2     0  \n",
       "2                     4            3                 4           0     1  \n",
       "3                     2            0                 0           3     1  \n",
       "4                     4            1                 2           3     0  \n",
       "...                 ...          ...               ...         ...   ...  \n",
       "174384                2            0                 0           4     0  \n",
       "174385                2            1                 3           1     1  \n",
       "174386                0            3                 3           2     0  \n",
       "174387                2            2                 4           1     1  \n",
       "174388                0            4                 2           2     1  \n",
       "\n",
       "[174389 rows x 15 columns]>"
      ]
     },
     "execution_count": 101,
     "metadata": {},
     "output_type": "execute_result"
    }
   ],
   "source": [
    "# X.head"
   ]
  },
  {
   "cell_type": "code",
   "execution_count": 102,
   "id": "ceb30490",
   "metadata": {},
   "outputs": [
    {
     "data": {
      "text/html": [
       "<div>\n",
       "<style scoped>\n",
       "    .dataframe tbody tr th:only-of-type {\n",
       "        vertical-align: middle;\n",
       "    }\n",
       "\n",
       "    .dataframe tbody tr th {\n",
       "        vertical-align: top;\n",
       "    }\n",
       "\n",
       "    .dataframe thead th {\n",
       "        text-align: right;\n",
       "    }\n",
       "</style>\n",
       "<table border=\"1\" class=\"dataframe\">\n",
       "  <thead>\n",
       "    <tr style=\"text-align: right;\">\n",
       "      <th></th>\n",
       "      <th>decade</th>\n",
       "      <th>tempo_disc</th>\n",
       "      <th>multi_artist</th>\n",
       "      <th>log_duration_ms</th>\n",
       "      <th>danceability_disc</th>\n",
       "      <th>explicit</th>\n",
       "      <th>instrumentalness_disc</th>\n",
       "      <th>key</th>\n",
       "      <th>liveness_disc</th>\n",
       "      <th>loudness_disc</th>\n",
       "      <th>speechiness_disc</th>\n",
       "      <th>valence_disc</th>\n",
       "      <th>acousticness_disc</th>\n",
       "      <th>energy_disc</th>\n",
       "      <th>mode</th>\n",
       "    </tr>\n",
       "  </thead>\n",
       "  <tbody>\n",
       "    <tr>\n",
       "      <th>0</th>\n",
       "      <td>1920</td>\n",
       "      <td>4</td>\n",
       "      <td>0</td>\n",
       "      <td>12.033699</td>\n",
       "      <td>3</td>\n",
       "      <td>0</td>\n",
       "      <td>0</td>\n",
       "      <td>5</td>\n",
       "      <td>3</td>\n",
       "      <td>2</td>\n",
       "      <td>4</td>\n",
       "      <td>3</td>\n",
       "      <td>4</td>\n",
       "      <td>1</td>\n",
       "      <td>0</td>\n",
       "    </tr>\n",
       "    <tr>\n",
       "      <th>1</th>\n",
       "      <td>1920</td>\n",
       "      <td>1</td>\n",
       "      <td>0</td>\n",
       "      <td>11.919723</td>\n",
       "      <td>4</td>\n",
       "      <td>0</td>\n",
       "      <td>1</td>\n",
       "      <td>5</td>\n",
       "      <td>1</td>\n",
       "      <td>3</td>\n",
       "      <td>3</td>\n",
       "      <td>4</td>\n",
       "      <td>3</td>\n",
       "      <td>2</td>\n",
       "      <td>0</td>\n",
       "    </tr>\n",
       "    <tr>\n",
       "      <th>2</th>\n",
       "      <td>1920</td>\n",
       "      <td>2</td>\n",
       "      <td>0</td>\n",
       "      <td>12.006566</td>\n",
       "      <td>3</td>\n",
       "      <td>0</td>\n",
       "      <td>0</td>\n",
       "      <td>0</td>\n",
       "      <td>4</td>\n",
       "      <td>2</td>\n",
       "      <td>4</td>\n",
       "      <td>3</td>\n",
       "      <td>4</td>\n",
       "      <td>0</td>\n",
       "      <td>1</td>\n",
       "    </tr>\n",
       "    <tr>\n",
       "      <th>3</th>\n",
       "      <td>1920</td>\n",
       "      <td>3</td>\n",
       "      <td>0</td>\n",
       "      <td>12.952967</td>\n",
       "      <td>4</td>\n",
       "      <td>0</td>\n",
       "      <td>4</td>\n",
       "      <td>2</td>\n",
       "      <td>1</td>\n",
       "      <td>3</td>\n",
       "      <td>2</td>\n",
       "      <td>0</td>\n",
       "      <td>0</td>\n",
       "      <td>3</td>\n",
       "      <td>1</td>\n",
       "    </tr>\n",
       "    <tr>\n",
       "      <th>4</th>\n",
       "      <td>1920</td>\n",
       "      <td>3</td>\n",
       "      <td>0</td>\n",
       "      <td>12.015057</td>\n",
       "      <td>4</td>\n",
       "      <td>1</td>\n",
       "      <td>0</td>\n",
       "      <td>10</td>\n",
       "      <td>3</td>\n",
       "      <td>3</td>\n",
       "      <td>4</td>\n",
       "      <td>1</td>\n",
       "      <td>2</td>\n",
       "      <td>3</td>\n",
       "      <td>0</td>\n",
       "    </tr>\n",
       "    <tr>\n",
       "      <th>...</th>\n",
       "      <td>...</td>\n",
       "      <td>...</td>\n",
       "      <td>...</td>\n",
       "      <td>...</td>\n",
       "      <td>...</td>\n",
       "      <td>...</td>\n",
       "      <td>...</td>\n",
       "      <td>...</td>\n",
       "      <td>...</td>\n",
       "      <td>...</td>\n",
       "      <td>...</td>\n",
       "      <td>...</td>\n",
       "      <td>...</td>\n",
       "      <td>...</td>\n",
       "      <td>...</td>\n",
       "    </tr>\n",
       "    <tr>\n",
       "      <th>174384</th>\n",
       "      <td>2020</td>\n",
       "      <td>3</td>\n",
       "      <td>1</td>\n",
       "      <td>11.902363</td>\n",
       "      <td>4</td>\n",
       "      <td>0</td>\n",
       "      <td>0</td>\n",
       "      <td>6</td>\n",
       "      <td>2</td>\n",
       "      <td>3</td>\n",
       "      <td>2</td>\n",
       "      <td>0</td>\n",
       "      <td>0</td>\n",
       "      <td>4</td>\n",
       "      <td>0</td>\n",
       "    </tr>\n",
       "    <tr>\n",
       "      <th>174385</th>\n",
       "      <td>2020</td>\n",
       "      <td>2</td>\n",
       "      <td>0</td>\n",
       "      <td>11.882556</td>\n",
       "      <td>1</td>\n",
       "      <td>0</td>\n",
       "      <td>0</td>\n",
       "      <td>4</td>\n",
       "      <td>2</td>\n",
       "      <td>2</td>\n",
       "      <td>2</td>\n",
       "      <td>1</td>\n",
       "      <td>3</td>\n",
       "      <td>1</td>\n",
       "      <td>1</td>\n",
       "    </tr>\n",
       "    <tr>\n",
       "      <th>174386</th>\n",
       "      <td>2020</td>\n",
       "      <td>2</td>\n",
       "      <td>0</td>\n",
       "      <td>12.292924</td>\n",
       "      <td>4</td>\n",
       "      <td>0</td>\n",
       "      <td>4</td>\n",
       "      <td>4</td>\n",
       "      <td>1</td>\n",
       "      <td>2</td>\n",
       "      <td>0</td>\n",
       "      <td>3</td>\n",
       "      <td>3</td>\n",
       "      <td>2</td>\n",
       "      <td>0</td>\n",
       "    </tr>\n",
       "    <tr>\n",
       "      <th>174387</th>\n",
       "      <td>2020</td>\n",
       "      <td>4</td>\n",
       "      <td>0</td>\n",
       "      <td>12.404924</td>\n",
       "      <td>1</td>\n",
       "      <td>1</td>\n",
       "      <td>0</td>\n",
       "      <td>0</td>\n",
       "      <td>1</td>\n",
       "      <td>2</td>\n",
       "      <td>2</td>\n",
       "      <td>2</td>\n",
       "      <td>4</td>\n",
       "      <td>1</td>\n",
       "      <td>1</td>\n",
       "    </tr>\n",
       "    <tr>\n",
       "      <th>174388</th>\n",
       "      <td>2020</td>\n",
       "      <td>2</td>\n",
       "      <td>0</td>\n",
       "      <td>12.194557</td>\n",
       "      <td>4</td>\n",
       "      <td>0</td>\n",
       "      <td>4</td>\n",
       "      <td>7</td>\n",
       "      <td>2</td>\n",
       "      <td>2</td>\n",
       "      <td>0</td>\n",
       "      <td>4</td>\n",
       "      <td>2</td>\n",
       "      <td>2</td>\n",
       "      <td>1</td>\n",
       "    </tr>\n",
       "  </tbody>\n",
       "</table>\n",
       "<p>174389 rows × 15 columns</p>\n",
       "</div>"
      ],
      "text/plain": [
       "        decade tempo_disc multi_artist  log_duration_ms danceability_disc  \\\n",
       "0         1920          4            0        12.033699                 3   \n",
       "1         1920          1            0        11.919723                 4   \n",
       "2         1920          2            0        12.006566                 3   \n",
       "3         1920          3            0        12.952967                 4   \n",
       "4         1920          3            0        12.015057                 4   \n",
       "...        ...        ...          ...              ...               ...   \n",
       "174384    2020          3            1        11.902363                 4   \n",
       "174385    2020          2            0        11.882556                 1   \n",
       "174386    2020          2            0        12.292924                 4   \n",
       "174387    2020          4            0        12.404924                 1   \n",
       "174388    2020          2            0        12.194557                 4   \n",
       "\n",
       "       explicit instrumentalness_disc key liveness_disc loudness_disc  \\\n",
       "0             0                     0   5             3             2   \n",
       "1             0                     1   5             1             3   \n",
       "2             0                     0   0             4             2   \n",
       "3             0                     4   2             1             3   \n",
       "4             1                     0  10             3             3   \n",
       "...         ...                   ...  ..           ...           ...   \n",
       "174384        0                     0   6             2             3   \n",
       "174385        0                     0   4             2             2   \n",
       "174386        0                     4   4             1             2   \n",
       "174387        1                     0   0             1             2   \n",
       "174388        0                     4   7             2             2   \n",
       "\n",
       "       speechiness_disc valence_disc acousticness_disc energy_disc  mode  \n",
       "0                     4            3                 4           1     0  \n",
       "1                     3            4                 3           2     0  \n",
       "2                     4            3                 4           0     1  \n",
       "3                     2            0                 0           3     1  \n",
       "4                     4            1                 2           3     0  \n",
       "...                 ...          ...               ...         ...   ...  \n",
       "174384                2            0                 0           4     0  \n",
       "174385                2            1                 3           1     1  \n",
       "174386                0            3                 3           2     0  \n",
       "174387                2            2                 4           1     1  \n",
       "174388                0            4                 2           2     1  \n",
       "\n",
       "[174389 rows x 15 columns]"
      ]
     },
     "execution_count": 102,
     "metadata": {},
     "output_type": "execute_result"
    }
   ],
   "source": [
    "# X"
   ]
  }
 ],
 "metadata": {
  "interpreter": {
   "hash": "aee8b7b246df8f9039afb4144a1f6fd8d2ca17a180786b69acc140d282b71a49"
  },
  "kernelspec": {
   "display_name": "Python 3.9.4 64-bit",
   "name": "python3"
  },
  "language_info": {
   "codemirror_mode": {
    "name": "ipython",
    "version": 3
   },
   "file_extension": ".py",
   "mimetype": "text/x-python",
   "name": "python",
   "nbconvert_exporter": "python",
   "pygments_lexer": "ipython3",
   "version": "3.9.4"
  }
 },
 "nbformat": 4,
 "nbformat_minor": 5
}
