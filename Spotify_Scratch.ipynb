{
 "cells": [
  {
   "cell_type": "code",
   "execution_count": 61,
   "id": "af603bfc-3399-414d-97d1-8e597050cb9d",
   "metadata": {},
   "outputs": [],
   "source": [
    "# Final Project Scratch\n",
    "\n",
    "# Packages\n",
    "import pandas as pd\n",
    "import warnings\n",
    "warnings.filterwarnings('ignore')\n",
    "import matplotlib.pyplot as plt\n",
    "import numpy as np\n",
    "from sklearn.preprocessing import StandardScaler\n",
    "from sklearn.decomposition import PCA\n",
    "from sklearn.model_selection import train_test_split\n",
    "from sklearn.tree import DecisionTreeClassifier\n",
    "from sklearn.ensemble import RandomForestRegressor\n",
    "from sklearn import metrics\n",
    "from itertools import product"
   ]
  },
  {
   "cell_type": "code",
   "execution_count": 62,
   "id": "9b2f28c8-bafe-4bd6-9825-0a24c3965a09",
   "metadata": {},
   "outputs": [],
   "source": [
    "music = pd.read_csv('music.csv')"
   ]
  },
  {
   "cell_type": "code",
   "execution_count": 63,
   "id": "c0ac2e9b-1f77-498d-91ad-6c36b783176e",
   "metadata": {},
   "outputs": [
    {
     "name": "stdout",
     "output_type": "stream",
     "text": [
      "<class 'pandas.core.frame.DataFrame'>\n",
      "RangeIndex: 174389 entries, 0 to 174388\n",
      "Data columns (total 19 columns):\n",
      " #   Column            Non-Null Count   Dtype  \n",
      "---  ------            --------------   -----  \n",
      " 0   acousticness      174389 non-null  float64\n",
      " 1   artists           174389 non-null  object \n",
      " 2   danceability      174389 non-null  float64\n",
      " 3   duration_ms       174389 non-null  int64  \n",
      " 4   energy            174389 non-null  float64\n",
      " 5   explicit          174389 non-null  int64  \n",
      " 6   id                174389 non-null  object \n",
      " 7   instrumentalness  174389 non-null  float64\n",
      " 8   key               174389 non-null  int64  \n",
      " 9   liveness          174389 non-null  float64\n",
      " 10  loudness          174389 non-null  float64\n",
      " 11  mode              174389 non-null  int64  \n",
      " 12  name              174389 non-null  object \n",
      " 13  popularity        174389 non-null  int64  \n",
      " 14  release_date      174389 non-null  object \n",
      " 15  speechiness       174389 non-null  float64\n",
      " 16  tempo             174389 non-null  float64\n",
      " 17  valence           174389 non-null  float64\n",
      " 18  year              174389 non-null  int64  \n",
      "dtypes: float64(9), int64(6), object(4)\n",
      "memory usage: 25.3+ MB\n"
     ]
    }
   ],
   "source": [
    "music.head()\n",
    "music.info()"
   ]
  },
  {
   "cell_type": "code",
   "execution_count": 64,
   "id": "79bcc7f6-1266-4175-b0e1-7e736ff231af",
   "metadata": {},
   "outputs": [],
   "source": [
    "# Remove columns ID and Name\n",
    "\n",
    "music = music.drop('id', 1)\n",
    "music = music.drop('name', 1)"
   ]
  },
  {
   "cell_type": "code",
   "execution_count": 65,
   "id": "91931585-dfdc-4c70-93e9-450ce5ccf7ab",
   "metadata": {},
   "outputs": [
    {
     "name": "stdout",
     "output_type": "stream",
     "text": [
      "<class 'pandas.core.frame.DataFrame'>\n",
      "RangeIndex: 174389 entries, 0 to 174388\n",
      "Data columns (total 17 columns):\n",
      " #   Column            Non-Null Count   Dtype  \n",
      "---  ------            --------------   -----  \n",
      " 0   acousticness      174389 non-null  float64\n",
      " 1   artists           174389 non-null  object \n",
      " 2   danceability      174389 non-null  float64\n",
      " 3   duration_ms       174389 non-null  int64  \n",
      " 4   energy            174389 non-null  float64\n",
      " 5   explicit          174389 non-null  int64  \n",
      " 6   instrumentalness  174389 non-null  float64\n",
      " 7   key               174389 non-null  int64  \n",
      " 8   liveness          174389 non-null  float64\n",
      " 9   loudness          174389 non-null  float64\n",
      " 10  mode              174389 non-null  int64  \n",
      " 11  popularity        174389 non-null  int64  \n",
      " 12  release_date      174389 non-null  object \n",
      " 13  speechiness       174389 non-null  float64\n",
      " 14  tempo             174389 non-null  float64\n",
      " 15  valence           174389 non-null  float64\n",
      " 16  year              174389 non-null  int64  \n",
      "dtypes: float64(9), int64(6), object(2)\n",
      "memory usage: 22.6+ MB\n"
     ]
    }
   ],
   "source": [
    "music.head()\n",
    "music.info()"
   ]
  },
  {
   "cell_type": "code",
   "execution_count": 66,
   "id": "25d35231-63c5-43ed-8ea7-f2a8c15cbdff",
   "metadata": {},
   "outputs": [],
   "source": [
    "# Decades Variable\n",
    "\n",
    "#music.loc[1,1]\n",
    "#len(music)\n",
    "music['year'][1201] >= 1930\n",
    "music.year[1201] >= 1930\n",
    "\n",
    "music['decade'] = 1"
   ]
  },
  {
   "cell_type": "code",
   "execution_count": 67,
   "id": "c843eb49-ad77-4b91-9004-aea90cf703a7",
   "metadata": {},
   "outputs": [
    {
     "name": "stdout",
     "output_type": "stream",
     "text": [
      "<class 'pandas.core.frame.DataFrame'>\n",
      "RangeIndex: 174389 entries, 0 to 174388\n",
      "Data columns (total 18 columns):\n",
      " #   Column            Non-Null Count   Dtype  \n",
      "---  ------            --------------   -----  \n",
      " 0   acousticness      174389 non-null  float64\n",
      " 1   artists           174389 non-null  object \n",
      " 2   danceability      174389 non-null  float64\n",
      " 3   duration_ms       174389 non-null  int64  \n",
      " 4   energy            174389 non-null  float64\n",
      " 5   explicit          174389 non-null  int64  \n",
      " 6   instrumentalness  174389 non-null  float64\n",
      " 7   key               174389 non-null  int64  \n",
      " 8   liveness          174389 non-null  float64\n",
      " 9   loudness          174389 non-null  float64\n",
      " 10  mode              174389 non-null  int64  \n",
      " 11  popularity        174389 non-null  int64  \n",
      " 12  release_date      174389 non-null  object \n",
      " 13  speechiness       174389 non-null  float64\n",
      " 14  tempo             174389 non-null  float64\n",
      " 15  valence           174389 non-null  float64\n",
      " 16  year              174389 non-null  int64  \n",
      " 17  decade            174389 non-null  int64  \n",
      "dtypes: float64(9), int64(7), object(2)\n",
      "memory usage: 23.9+ MB\n"
     ]
    }
   ],
   "source": [
    "music.head()\n",
    "music.info()"
   ]
  },
  {
   "cell_type": "code",
   "execution_count": 68,
   "id": "599536d0-610a-49ff-b6b5-0ef1a6a43bbc",
   "metadata": {},
   "outputs": [],
   "source": [
    "for i in range(len(music)):\n",
    "    if (music.year[i] >= 1920) & (music.year[i] < 1930):\n",
    "        music['decade'][i] = 1920\n",
    "    elif (music.year[i] >= 1930) & (music.year[i] < 1940):\n",
    "        music['decade'][i] = 1930\n",
    "    elif (music.year[i] >= 1940) & (music.year[i] < 1950):\n",
    "        music['decade'][i] = 1940\n",
    "    elif (music.year[i] >= 1950) & (music.year[i] < 1960):\n",
    "        music['decade'][i] = 1950\n",
    "    elif (music.year[i] >= 1960) & (music.year[i] < 1970):\n",
    "        music['decade'][i] = 1960\n",
    "    elif (music.year[i] >= 1970) & (music.year[i] < 1980):\n",
    "        music['decade'][i] = 1970\n",
    "    elif (music.year[i] >= 1980) & (music.year[i] < 1990):\n",
    "        music['decade'][i] = 1980\n",
    "    elif (music.year[i] >= 1990) & (music.year[i] < 2000):\n",
    "        music['decade'][i] = 1990\n",
    "    elif (music.year[i] >= 2000) & (music.year[i] < 2010):\n",
    "        music['decade'][i] = 2000\n",
    "    elif (music.year[i] >= 2010) & (music.year[i] < 2020):\n",
    "        music['decade'][i] = 2010\n",
    "    else:\n",
    "        music['decade'][i] = 2020"
   ]
  },
  {
   "cell_type": "code",
   "execution_count": 69,
   "id": "d957ccce-91b7-46a9-9b44-6b8b0a8d7689",
   "metadata": {},
   "outputs": [
    {
     "data": {
      "text/html": [
       "<div>\n",
       "<style scoped>\n",
       "    .dataframe tbody tr th:only-of-type {\n",
       "        vertical-align: middle;\n",
       "    }\n",
       "\n",
       "    .dataframe tbody tr th {\n",
       "        vertical-align: top;\n",
       "    }\n",
       "\n",
       "    .dataframe thead th {\n",
       "        text-align: right;\n",
       "    }\n",
       "</style>\n",
       "<table border=\"1\" class=\"dataframe\">\n",
       "  <thead>\n",
       "    <tr style=\"text-align: right;\">\n",
       "      <th></th>\n",
       "      <th>year</th>\n",
       "      <th>decade</th>\n",
       "    </tr>\n",
       "  </thead>\n",
       "  <tbody>\n",
       "    <tr>\n",
       "      <th>0</th>\n",
       "      <td>1920</td>\n",
       "      <td>1920</td>\n",
       "    </tr>\n",
       "    <tr>\n",
       "      <th>1</th>\n",
       "      <td>1920</td>\n",
       "      <td>1920</td>\n",
       "    </tr>\n",
       "    <tr>\n",
       "      <th>2</th>\n",
       "      <td>1920</td>\n",
       "      <td>1920</td>\n",
       "    </tr>\n",
       "    <tr>\n",
       "      <th>3</th>\n",
       "      <td>1920</td>\n",
       "      <td>1920</td>\n",
       "    </tr>\n",
       "    <tr>\n",
       "      <th>4</th>\n",
       "      <td>1920</td>\n",
       "      <td>1920</td>\n",
       "    </tr>\n",
       "    <tr>\n",
       "      <th>...</th>\n",
       "      <td>...</td>\n",
       "      <td>...</td>\n",
       "    </tr>\n",
       "    <tr>\n",
       "      <th>174384</th>\n",
       "      <td>2020</td>\n",
       "      <td>2020</td>\n",
       "    </tr>\n",
       "    <tr>\n",
       "      <th>174385</th>\n",
       "      <td>2021</td>\n",
       "      <td>2020</td>\n",
       "    </tr>\n",
       "    <tr>\n",
       "      <th>174386</th>\n",
       "      <td>2020</td>\n",
       "      <td>2020</td>\n",
       "    </tr>\n",
       "    <tr>\n",
       "      <th>174387</th>\n",
       "      <td>2021</td>\n",
       "      <td>2020</td>\n",
       "    </tr>\n",
       "    <tr>\n",
       "      <th>174388</th>\n",
       "      <td>2020</td>\n",
       "      <td>2020</td>\n",
       "    </tr>\n",
       "  </tbody>\n",
       "</table>\n",
       "<p>174389 rows × 2 columns</p>\n",
       "</div>"
      ],
      "text/plain": [
       "        year  decade\n",
       "0       1920    1920\n",
       "1       1920    1920\n",
       "2       1920    1920\n",
       "3       1920    1920\n",
       "4       1920    1920\n",
       "...      ...     ...\n",
       "174384  2020    2020\n",
       "174385  2021    2020\n",
       "174386  2020    2020\n",
       "174387  2021    2020\n",
       "174388  2020    2020\n",
       "\n",
       "[174389 rows x 2 columns]"
      ]
     },
     "execution_count": 69,
     "metadata": {},
     "output_type": "execute_result"
    }
   ],
   "source": [
    "music[['year', 'decade']]"
   ]
  },
  {
   "cell_type": "code",
   "execution_count": 70,
   "id": "c636f9f1-490b-49dc-a370-861c8fb5cf19",
   "metadata": {},
   "outputs": [
    {
     "data": {
      "text/plain": [
       "2010    22455\n",
       "1990    20328\n",
       "1970    20118\n",
       "1980    20074\n",
       "1950    20000\n",
       "1960    19610\n",
       "1940    15493\n",
       "2000    13782\n",
       "1930    10764\n",
       "2020     6134\n",
       "1920     5631\n",
       "Name: decade, dtype: int64"
      ]
     },
     "execution_count": 70,
     "metadata": {},
     "output_type": "execute_result"
    },
    {
     "data": {
      "image/png": "[encoded data removed]",
      "text/plain": [
       "<Figure size 576x720 with 1 Axes>"
      ]
     },
     "metadata": {
      "needs_background": "light"
     },
     "output_type": "display_data"
    }
   ],
   "source": [
    "plt.hist(music.decade)\n",
    "music.decade.value_counts()"
   ]
  },
  {
   "cell_type": "code",
   "execution_count": 71,
   "id": "e5cde144-cd4f-4ad4-b485-e1d223a25ac4",
   "metadata": {},
   "outputs": [
    {
     "data": {
      "text/plain": [
       "2    43768\n",
       "4    43669\n",
       "3    43134\n",
       "1    42737\n",
       "0     1081\n",
       "Name: tempo_disc, dtype: int64"
      ]
     },
     "execution_count": 71,
     "metadata": {},
     "output_type": "execute_result"
    },
    {
     "data": {
      "image/png": "[encoded data removed]",
      "text/plain": [
       "<Figure size 576x720 with 1 Axes>"
      ]
     },
     "metadata": {
      "needs_background": "light"
     },
     "output_type": "display_data"
    }
   ],
   "source": [
    "#Tempos\n",
    "# hist(music$tempo)\n",
    "# music$tempo_disc <- discretize(music$tempo, method = \"cluster\", breaks = 5, labels = FALSE)\n",
    "# music$tempo_disc <- as.factor(music$tempo_disc)\n",
    "# table(music$temp_disc)\n",
    "\n",
    "plt.hist(music.tempo)\n",
    "music[\"tempo_disc\"] = np.digitize(music.tempo, [60, 94, 116, 135])\n",
    "music[\"tempo_disc\"] = music[\"tempo_disc\"].astype(str)\n",
    "music.tempo_disc.value_counts()"
   ]
  },
  {
   "cell_type": "code",
   "execution_count": 72,
   "id": "116facb5-78c1-42ef-af4b-89cf3f405b3e",
   "metadata": {},
   "outputs": [
    {
     "data": {
      "text/plain": [
       "0    136808\n",
       "1     37581\n",
       "Name: multi_artist, dtype: int64"
      ]
     },
     "execution_count": 72,
     "metadata": {},
     "output_type": "execute_result"
    }
   ],
   "source": [
    "#Multi Artists\n",
    "# for (i in 1:nrow(music)) {\n",
    "#   if (grepl(\"', '\", music$artists[i])) { music$multi_artist[i] <- 1 }\n",
    "#   else { music$multi_artist[i] <- 0 }\n",
    "# }\n",
    "# table(music$multi_artist)\n",
    "\n",
    "music[\"multi_artist\"] = np.where((\",\" in music.artists), 1, 0) #I don't know why but this line has to be run before the for loop\n",
    "for i in range(len(music)):\n",
    "    if \",\" in music.artists[i]:\n",
    "        music.multi_artist[i] = 1\n",
    "    else:\n",
    "        music.multi_artist[i] = 0\n",
    "\n",
    "music.multi_artist = music.multi_artist.astype(str) \n",
    "music.multi_artist.value_counts()"
   ]
  },
  {
   "cell_type": "code",
   "execution_count": 73,
   "id": "e4139d0c-e647-4f97-837b-b64934d04798",
   "metadata": {},
   "outputs": [],
   "source": [
    "# Explicit - make factor\n",
    "# music$explicit <- as.factor(music$explicit)\n",
    "\n",
    "music.explicit = music.explicit.astype(str)"
   ]
  },
  {
   "cell_type": "code",
   "execution_count": 74,
   "id": "f199fdff-fd7c-415e-a7aa-fe897c083d25",
   "metadata": {},
   "outputs": [
    {
     "data": {
      "image/png": "[encoded data removed]",
      "text/plain": [
       "<Figure size 576x720 with 1 Axes>"
      ]
     },
     "metadata": {
      "needs_background": "light"
     },
     "output_type": "display_data"
    }
   ],
   "source": [
    "# Duration MS\n",
    "# hist(music$duration_ms)\n",
    "# hist(log(music$duration_ms))\n",
    "# music$log_duration_ms <- log(music$duration_ms)\n",
    "\n",
    "plt.hist(music.duration_ms)\n",
    "plt.hist(np.log(music.duration_ms))\n",
    "music[\"log_duration_ms\"] = np.log(music.duration_ms)"
   ]
  },
  {
   "cell_type": "code",
   "execution_count": 75,
   "id": "44ca3bdc-a3bb-4dcb-b93c-c333541847a4",
   "metadata": {},
   "outputs": [
    {
     "data": {
      "text/plain": [
       "4    44561\n",
       "3    44086\n",
       "0    42221\n",
       "2    27187\n",
       "1    16334\n",
       "Name: acousticness_disc, dtype: int64"
      ]
     },
     "execution_count": 75,
     "metadata": {},
     "output_type": "execute_result"
    },
    {
     "data": {
      "image/png": "[encoded data removed]",
      "text/plain": [
       "<Figure size 576x720 with 1 Axes>"
      ]
     },
     "metadata": {
      "needs_background": "light"
     },
     "output_type": "display_data"
    }
   ],
   "source": [
    "# Acousticness - discretize into 5 bins\n",
    "# hist(music$acousticness)\n",
    "# hist(music$acousticness, breaks = 20, main = \"K-Means\")\n",
    "# abline(v = discretize(music$acousticness, method = \"cluster\", breaks = 5, \n",
    "#                       onlycuts = TRUE), col = \"red\")\n",
    "# music$acousticness_disc <- discretize(music$acousticness, method = \"cluster\", breaks = 5, labels = FALSE)\n",
    "# table(music$acousticness_disc)\n",
    "# music$acousticness_disc <- as.factor(music$acousticness_disc)\n",
    "\n",
    "plt.hist(music.acousticness)\n",
    "music.acousticness.describe()\n",
    "music[\"acousticness_disc\"] = np.digitize(music.acousticness, [0.08, 0.2, 0.5, 0.89])\n",
    "music.acousticness_disc = music.acousticness_disc.astype(str)\n",
    "music.acousticness_disc.value_counts()"
   ]
  },
  {
   "cell_type": "code",
   "execution_count": 76,
   "id": "6a711171-0fdb-4656-844f-36ca64e38859",
   "metadata": {},
   "outputs": [
    {
     "data": {
      "text/plain": [
       "4    46678\n",
       "3    39932\n",
       "0    39740\n",
       "2    27905\n",
       "1    20134\n",
       "Name: danceability_disc, dtype: int64"
      ]
     },
     "execution_count": 76,
     "metadata": {},
     "output_type": "execute_result"
    },
    {
     "data": {
      "image/png": "[encoded data removed]",
      "text/plain": [
       "<Figure size 576x720 with 1 Axes>"
      ]
     },
     "metadata": {
      "needs_background": "light"
     },
     "output_type": "display_data"
    }
   ],
   "source": [
    "# Danceability - discretize\n",
    "# hist(music$danceability)\n",
    "# summary(music$danceability)\n",
    "# hist(music$danceability, breaks = 20, main = \"K-Means\")\n",
    "# abline(v = discretize(music$danceability, method = \"cluster\", breaks = 5, \n",
    "#                       onlycuts = TRUE), col = \"red\")\n",
    "# music$danceability_disc <- discretize(music$danceability, method = \"cluster\", breaks = 5, labels = FALSE)\n",
    "# music$danceability_disc <- as.factor(music$danceability_disc)\n",
    "\n",
    "plt.hist(music.danceability)\n",
    "music.danceability.describe()\n",
    "music[\"danceability_disc\"] = np.digitize(music.danceability, [0.4, 0.47, 0.55, 0.66])\n",
    "music.danceability_disc = music.danceability_disc.astype(str)\n",
    "music.danceability_disc.value_counts()"
   ]
  },
  {
   "cell_type": "code",
   "execution_count": 77,
   "id": "d538e89d-e9b5-4763-8e1a-8cbb30809c90",
   "metadata": {},
   "outputs": [
    {
     "data": {
      "text/plain": [
       "1    42115\n",
       "2    37296\n",
       "3    33079\n",
       "0    32477\n",
       "4    29422\n",
       "Name: energy_disc, dtype: int64"
      ]
     },
     "execution_count": 77,
     "metadata": {},
     "output_type": "execute_result"
    },
    {
     "data": {
      "image/png": "[encoded data removed]",
      "text/plain": [
       "<Figure size 576x720 with 1 Axes>"
      ]
     },
     "metadata": {
      "needs_background": "light"
     },
     "output_type": "display_data"
    }
   ],
   "source": [
    "# Energy - transform or discretize\n",
    "# hist(music$energy)\n",
    "# library(bestNormalize)\n",
    "# BNobject <- bestNormalize(music$energy)\n",
    "# music$energy_trans <- BNobject$x.t\n",
    "# hist(music$energy_trans)\n",
    "# hist(music$energy, breaks = 20, main = \"K-Means\")\n",
    "# abline(v = discretize(music$energy, method = \"cluster\", breaks = 5, \n",
    "#                       onlycuts = TRUE), col = \"red\")\n",
    "# music$energy_disc <- discretize(music$energy, method = \"cluster\", breaks = 5, labels = FALSE)\n",
    "# music$energy_disc <- as.factor(music$energy_disc)\n",
    "\n",
    "plt.hist(music.energy)\n",
    "music.energy.describe()\n",
    "music[\"energy_disc\"] = np.digitize(music.energy, [0.2, 0.4, 0.6, 0.8])\n",
    "music.energy_disc = music.energy_disc.astype(str)\n",
    "music.energy_disc.value_counts()"
   ]
  },
  {
   "cell_type": "code",
   "execution_count": 78,
   "id": "d6bc9c5e-e4c5-4d7a-9832-6f0a49f4fbcd",
   "metadata": {},
   "outputs": [
    {
     "data": {
      "text/plain": [
       "0    91786\n",
       "1    31978\n",
       "4    24535\n",
       "2    14290\n",
       "3    11800\n",
       "Name: instrumentalness_disc, dtype: int64"
      ]
     },
     "execution_count": 78,
     "metadata": {},
     "output_type": "execute_result"
    },
    {
     "data": {
      "image/png": "[encoded data removed]",
      "text/plain": [
       "<Figure size 576x720 with 1 Axes>"
      ]
     },
     "metadata": {
      "needs_background": "light"
     },
     "output_type": "display_data"
    }
   ],
   "source": [
    "# Instrumentalness - discretize into 5 bins\n",
    "# hist(music$instrumentalness, breaks = 20, main = \"K-Means\")\n",
    "# abline(v = discretize(music$instrumentalness, method = \"cluster\", breaks = 5, \n",
    "#                       onlycuts = TRUE), col = \"red\")\n",
    "# music$instrumentalness_disc <- discretize(music$instrumentalness, method = \"cluster\", breaks = 5, labels = FALSE)\n",
    "# music$instrumentalness_disc <- as.factor(music$instrumentalness_disc)\n",
    "\n",
    "plt.hist(music.instrumentalness)\n",
    "music.instrumentalness.describe()\n",
    "music[\"instrumentalness_disc\"] = np.digitize(music.instrumentalness, [0.001, 0.1, 0.5, 0.8])\n",
    "music.instrumentalness_disc = music.instrumentalness_disc.astype(str)\n",
    "music.instrumentalness_disc.value_counts()"
   ]
  },
  {
   "cell_type": "code",
   "execution_count": 79,
   "id": "5e980296-075f-4faa-ae05-540c9851dde7",
   "metadata": {},
   "outputs": [
    {
     "data": {
      "text/plain": [
       "1    71246\n",
       "2    42656\n",
       "3    24118\n",
       "0    22946\n",
       "4    13423\n",
       "Name: liveness_disc, dtype: int64"
      ]
     },
     "execution_count": 79,
     "metadata": {},
     "output_type": "execute_result"
    },
    {
     "data": {
      "image/png": "[encoded data removed]",
      "text/plain": [
       "<Figure size 576x720 with 1 Axes>"
      ]
     },
     "metadata": {
      "needs_background": "light"
     },
     "output_type": "display_data"
    }
   ],
   "source": [
    "# Key - make factor\n",
    "# music$key <- as.factor(music$key)\n",
    "\n",
    "music.key = music.key.astype(str)\n",
    "\n",
    "# # Liveness - discretize into 5 bins\n",
    "# hist(music$liveness, breaks = 5)\n",
    "# table(discretize(music$liveness, method = \"cluster\", breaks = 5))\n",
    "# hist(music$liveness, breaks = 20, main = \"K-Means\")\n",
    "# abline(v = discretize(music$liveness, method = \"cluster\", breaks = 5, \n",
    "#                       onlycuts = TRUE), col = \"red\")\n",
    "# music$liveness_disc <- discretize(music$liveness, method = \"cluster\", breaks = 5, labels = FALSE)\n",
    "# music$liveness_disc <- as.factor(music$liveness_disc)\n",
    "\n",
    "plt.hist(music.liveness)\n",
    "music.liveness.describe()\n",
    "music[\"liveness_disc\"] = np.digitize(music.liveness, [0.08, 0.15, 0.3, 0.5])\n",
    "music.liveness_disc = music.liveness_disc.astype(str)\n",
    "music.liveness_disc.value_counts()"
   ]
  },
  {
   "cell_type": "code",
   "execution_count": 80,
   "id": "4381f99f-5130-4fe4-891e-7a374bcd71bc",
   "metadata": {},
   "outputs": [
    {
     "data": {
      "text/plain": [
       "3    62359\n",
       "2    54982\n",
       "1    27174\n",
       "0    15712\n",
       "4    14162\n",
       "Name: loudness_disc, dtype: int64"
      ]
     },
     "execution_count": 80,
     "metadata": {},
     "output_type": "execute_result"
    },
    {
     "data": {
      "image/png": "[encoded data removed]",
      "text/plain": [
       "<Figure size 576x720 with 1 Axes>"
      ]
     },
     "metadata": {
      "needs_background": "light"
     },
     "output_type": "display_data"
    }
   ],
   "source": [
    "# Loudness - discretize into 5 bins\n",
    "# hist(music$loudness)\n",
    "# table(discretize(music$loudness, method = \"cluster\", breaks = 5))\n",
    "# hist(music$loudness, breaks = 20, main = \"K-Means\")\n",
    "# abline(v = discretize(music$loudness, method = \"cluster\", breaks = 5, \n",
    "#                       onlycuts = TRUE), col = \"red\")\n",
    "# music$loudness_disc <- discretize(music$loudness, method = \"cluster\", breaks = 5, labels = FALSE)\n",
    "# music$loudness_disc <- as.factor(music$loudness_disc)\n",
    "\n",
    "plt.hist(music.loudness)\n",
    "music.loudness.describe()\n",
    "music[\"loudness_disc\"] = np.digitize(music.loudness, [-20, -15, -10, -5])\n",
    "music.loudness_disc = music.loudness_disc.astype(str)\n",
    "music.loudness_disc.value_counts()"
   ]
  },
  {
   "cell_type": "code",
   "execution_count": 81,
   "id": "dfd494c9-7522-43d7-aac9-1b399e0d6bb9",
   "metadata": {},
   "outputs": [
    {
     "data": {
      "text/plain": [
       "4    44458\n",
       "3    44443\n",
       "2    43094\n",
       "1    26266\n",
       "0    16128\n",
       "Name: speechiness_disc, dtype: int64"
      ]
     },
     "execution_count": 81,
     "metadata": {},
     "output_type": "execute_result"
    },
    {
     "data": {
      "image/png": "[encoded data removed]",
      "text/plain": [
       "<Figure size 576x720 with 1 Axes>"
      ]
     },
     "metadata": {
      "needs_background": "light"
     },
     "output_type": "display_data"
    }
   ],
   "source": [
    "# Speechiness - discretize into 5 bins\n",
    "# hist(music$speechiness)\n",
    "# table(discretize(music$speechiness, method = \"cluster\", breaks = 5))\n",
    "# hist(music$speechiness, breaks = 20, main = \"K-Means\")\n",
    "# abline(v = discretize(music$speechiness, method = \"cluster\", breaks = 5, \n",
    "#                       onlycuts = TRUE), col = \"red\")\n",
    "# music$speechiness_disc <- discretize(music$speechiness, method = \"cluster\", breaks = 5, labels = FALSE)\n",
    "# music$speechiness_disc <- as.factor(music$speechiness_disc)\n",
    "\n",
    "plt.hist(music.speechiness)\n",
    "music.speechiness.describe()\n",
    "music[\"speechiness_disc\"] = np.digitize(music.speechiness, [0.03, 0.035, 0.045, 0.075])\n",
    "music.speechiness_disc = music.speechiness_disc.astype(str)\n",
    "music.speechiness_disc.value_counts()"
   ]
  },
  {
   "cell_type": "code",
   "execution_count": 82,
   "id": "701f7824-eeac-4bdb-ae60-5585ba780e3e",
   "metadata": {},
   "outputs": [
    {
     "data": {
      "text/plain": [
       "4    44447\n",
       "3    44191\n",
       "2    42316\n",
       "0    25567\n",
       "1    17868\n",
       "Name: valence_disc, dtype: int64"
      ]
     },
     "execution_count": 82,
     "metadata": {},
     "output_type": "execute_result"
    },
    {
     "data": {
      "image/png": "[encoded data removed]",
      "text/plain": [
       "<Figure size 576x720 with 1 Axes>"
      ]
     },
     "metadata": {
      "needs_background": "light"
     },
     "output_type": "display_data"
    }
   ],
   "source": [
    "# Valence - discretize into 5 bins\n",
    "# table(discretize(music$valence, method = \"cluster\", breaks = 5))\n",
    "# hist(music$valence, breaks = 20, main = \"K-Means\")\n",
    "# abline(v = discretize(music$valence, method = \"cluster\", breaks = 5, \n",
    "#                       onlycuts = TRUE), col = \"red\")\n",
    "# music$valence_disc <- discretize(music$valence, method = \"cluster\", breaks = 5, labels = FALSE)\n",
    "# music$valence_disc <- as.factor(music$valence_disc)\n",
    "\n",
    "plt.hist(music.valence)\n",
    "music.valence.describe()\n",
    "music[\"valence_disc\"] = np.digitize(music.valence, [0.2, 0.31, 0.53, 0.74])\n",
    "music.valence_disc = music.valence_disc.astype(str)\n",
    "music.valence_disc.value_counts()"
   ]
  },
  {
   "cell_type": "code",
   "execution_count": 83,
   "id": "2780f456-75fe-437c-8117-a35240d6c09b",
   "metadata": {},
   "outputs": [],
   "source": [
    "# Mode - factor\n",
    "# music$mode <- as.factor(music$mode)\n",
    "\n",
    "music.mode = music[\"mode\"].astype(str)"
   ]
  },
  {
   "cell_type": "code",
   "execution_count": 84,
   "id": "a386e600-6d15-4ae4-94ad-e7ac520c0ac8",
   "metadata": {},
   "outputs": [
    {
     "data": {
      "text/plain": [
       "0    82401\n",
       "1    61384\n",
       "2    28398\n",
       "3     2206\n",
       "Name: popularity_disc, dtype: int64"
      ]
     },
     "execution_count": 84,
     "metadata": {},
     "output_type": "execute_result"
    },
    {
     "data": {
      "image/png": "[encoded data removed]",
      "text/plain": [
       "<Figure size 576x720 with 1 Axes>"
      ]
     },
     "metadata": {
      "needs_background": "light"
     },
     "output_type": "display_data"
    }
   ],
   "source": [
    "# Popularity - factor w/ 5 levels\n",
    "# music$popularity_disc <- discretize(music$popularity, method = \"interval\", breaks = 3, labels = FALSE)\n",
    "# music$popularity_disc <- as.factor(music$popularity_disc)\n",
    "# summary(music$popularity)\n",
    "# table(music$popularity_disc)\n",
    "\n",
    "plt.hist(music.popularity)\n",
    "music.popularity.describe()\n",
    "music[\"popularity_disc\"] = np.digitize(music.popularity, [24, 49, 74])\n",
    "music.popularity_disc = music.popularity_disc.astype(str)\n",
    "music.popularity_disc.value_counts()"
   ]
  },
  {
   "cell_type": "code",
   "execution_count": 85,
   "id": "73dec986-81de-45de-8d9e-4982f82f245f",
   "metadata": {},
   "outputs": [],
   "source": [
    "#Split into 2 datasets: All Numeric, Discretized\n",
    "# music_raw <- music[which(colnames(music) %in% c(\"acousticness\", \"danceability\", \"duration_ms\", \"energy\", \"explicit\", \"instrumentalness\", \n",
    "#\"key\", \"liveness\", \"loudness\", \"mode\", \"popularity_disc\", \"release_date\", \"speechiness\", \"tempo\", \"valence\", \"year\", \"multi_artist\"))]\n",
    "\n",
    "# music_disc <- music[which(colnames(music) %in% c(\"popularity_disc\", \"decade\", \"temp_disc\", \"multi_artist\", \"log_duration_ms\", \"danceability_disc\", \n",
    "#\"explicit\", \"instrumentalness_disc\", \"key\", \"liveness_disc\", \"loudness_disc\", \"speechiness_disc\", \"valence_disc\", \"acousticness_disc\", \"energy_disc\",\n",
    "#\"mode\"))]\n",
    "\n",
    "music_raw = music[[\"acousticness\", \"danceability\", \"duration_ms\", \"energy\", \"explicit\", \"instrumentalness\",\"key\", \"liveness\", \"loudness\", \"mode\", \n",
    "                   \"popularity_disc\", \"release_date\", \"speechiness\", \"tempo\", \"valence\", \"year\", \"multi_artist\"]]\n",
    "\n",
    "music_disc = music[[\"popularity_disc\", \"decade\", \"tempo_disc\", \"multi_artist\", \"log_duration_ms\", \"danceability_disc\", \"explicit\", \n",
    "                    \"instrumentalness_disc\", \"key\", \"liveness_disc\", \"loudness_disc\", \"speechiness_disc\", \"valence_disc\", \"acousticness_disc\", \n",
    "                    \"energy_disc\", \"mode\"]]"
   ]
  },
  {
   "cell_type": "code",
   "execution_count": 86,
   "id": "bb407410",
   "metadata": {},
   "outputs": [],
   "source": [
    "# split into training and holdout\n",
    "X = music_disc.loc[:, music_disc.columns != 'popularity_disc']\n",
    "y = music_disc.loc[:, music_disc.columns == 'popularity_disc']\n",
    "X_train, X_test, y_train, y_test = train_test_split(X, y, test_size=0.3, random_state=1) # 70% training and 30% test"
   ]
  },
  {
   "cell_type": "code",
   "execution_count": 87,
   "id": "c5b09996",
   "metadata": {},
   "outputs": [
    {
     "data": {
      "text/plain": [
       "47.07456467305082"
      ]
     },
     "execution_count": 87,
     "metadata": {},
     "output_type": "execute_result"
    }
   ],
   "source": [
    "#Naive Model\n",
    "y_test['popularity_disc'].value_counts()\n",
    "24628/(len(y_test))*100  #47.07456467305082 accuracy"
   ]
  },
  {
   "cell_type": "code",
   "execution_count": 89,
   "id": "d844c6cc",
   "metadata": {},
   "outputs": [],
   "source": [
    "# create tuning parameter grid function\n",
    "def expand_grid(dictionary):\n",
    "   return pd.DataFrame([i for i in product(*dictionary.values())], \n",
    "                       columns=dictionary.keys())"
   ]
  },
  {
   "cell_type": "code",
   "execution_count": 29,
   "id": "ef186d2f",
   "metadata": {},
   "outputs": [
    {
     "data": {
      "text/plain": [
       "accuracy     0.761454\n",
       "criterion        gini\n",
       "splitter         best\n",
       "max_depth          10\n",
       "Name: 10, dtype: object"
      ]
     },
     "execution_count": 29,
     "metadata": {},
     "output_type": "execute_result"
    }
   ],
   "source": [
    "# DECISION TREE\n",
    "# Create tuning grid for Decision Tree\n",
    "dictionary = {'criterion': ['entropy','gini'],\n",
    "             'splitter': ['random','best'],\n",
    "             'max_depth': [8,10,25]}\n",
    "\n",
    "grid = expand_grid(dictionary)\n",
    "\n",
    "\n",
    "# CREATE MODEL\n",
    "accuracies = []\n",
    "for i in grid.index:\n",
    "    dt = DecisionTreeClassifier(criterion = grid.iloc[i,0]  , splitter = grid.iloc[i,1], max_depth = grid.iloc[i,2])\n",
    "\n",
    "    dt = dt.fit(X_train,y_train)\n",
    "\n",
    "    accuracies.append(dt.score(X_test,y_test))\n",
    "\n",
    "    \n",
    "# CHECK ACCURACIES AND WHICH MODEL IS BEST\n",
    "dt_accuracies = pd.DataFrame(accuracies)\n",
    "dt_accuracies = dt_accuracies.rename(columns={0: \"accuracy\"})\n",
    "dt_accuracies['criterion'] = grid.iloc[:,0]\n",
    "dt_accuracies['splitter'] = grid.iloc[:,1]\n",
    "dt_accuracies['max_depth'] = grid.iloc[:,2]\n",
    "dt_accuracies\n",
    "\n",
    "best_dt_model = dt_accuracies.iloc[dt_accuracies['accuracy'].idxmax()]\n",
    "best_dt_model\n",
    "# 0.761664 accuracy"
   ]
  },
  {
   "cell_type": "code",
   "execution_count": 33,
   "id": "327027ca-8110-49b8-9c4e-7c7902a0c965",
   "metadata": {},
   "outputs": [
    {
     "data": {
      "text/html": [
       "<div>\n",
       "<style scoped>\n",
       "    .dataframe tbody tr th:only-of-type {\n",
       "        vertical-align: middle;\n",
       "    }\n",
       "\n",
       "    .dataframe tbody tr th {\n",
       "        vertical-align: top;\n",
       "    }\n",
       "\n",
       "    .dataframe thead th {\n",
       "        text-align: right;\n",
       "    }\n",
       "</style>\n",
       "<table border=\"1\" class=\"dataframe\">\n",
       "  <thead>\n",
       "    <tr style=\"text-align: right;\">\n",
       "      <th></th>\n",
       "      <th>feature</th>\n",
       "      <th>importance</th>\n",
       "      <th>cum_importance</th>\n",
       "    </tr>\n",
       "  </thead>\n",
       "  <tbody>\n",
       "    <tr>\n",
       "      <th>0</th>\n",
       "      <td>decade</td>\n",
       "      <td>0.454421</td>\n",
       "      <td>0.454421</td>\n",
       "    </tr>\n",
       "    <tr>\n",
       "      <th>3</th>\n",
       "      <td>log_duration_ms</td>\n",
       "      <td>0.162238</td>\n",
       "      <td>0.616658</td>\n",
       "    </tr>\n",
       "    <tr>\n",
       "      <th>7</th>\n",
       "      <td>key</td>\n",
       "      <td>0.057731</td>\n",
       "      <td>0.674389</td>\n",
       "    </tr>\n",
       "    <tr>\n",
       "      <th>6</th>\n",
       "      <td>instrumentalness_disc</td>\n",
       "      <td>0.050898</td>\n",
       "      <td>0.725286</td>\n",
       "    </tr>\n",
       "    <tr>\n",
       "      <th>8</th>\n",
       "      <td>liveness_disc</td>\n",
       "      <td>0.035073</td>\n",
       "      <td>0.760360</td>\n",
       "    </tr>\n",
       "    <tr>\n",
       "      <th>1</th>\n",
       "      <td>tempo_disc</td>\n",
       "      <td>0.032728</td>\n",
       "      <td>0.793088</td>\n",
       "    </tr>\n",
       "  </tbody>\n",
       "</table>\n",
       "</div>"
      ],
      "text/plain": [
       "                 feature  importance  cum_importance\n",
       "0                 decade    0.454421        0.454421\n",
       "3        log_duration_ms    0.162238        0.616658\n",
       "7                    key    0.057731        0.674389\n",
       "6  instrumentalness_disc    0.050898        0.725286\n",
       "8          liveness_disc    0.035073        0.760360\n",
       "1             tempo_disc    0.032728        0.793088"
      ]
     },
     "execution_count": 33,
     "metadata": {},
     "output_type": "execute_result"
    }
   ],
   "source": [
    "## Feature Importance values and plots for DT model\n",
    "importances_dt = pd.DataFrame({'feature': X.columns,\n",
    "                            'importance': dt.feature_importances_})\n",
    "importances_dt = importances_dt.sort_values('importance', ascending=False)\n",
    "importances_dt['cum_importance'] = importances_dt.importance.cumsum()\n",
    "importances_dt.loc[importances_dt.cum_importance <= .80]"
   ]
  },
  {
   "cell_type": "code",
   "execution_count": 34,
   "id": "2ee3cb46-2ca7-4400-86e3-6f4771d64bf5",
   "metadata": {},
   "outputs": [
    {
     "data": {
      "image/png": "[encoded data removed]",
      "text/plain": [
       "<Figure size 432x288 with 1 Axes>"
      ]
     },
     "metadata": {
      "needs_background": "light"
     },
     "output_type": "display_data"
    }
   ],
   "source": [
    "imp_dt = importances_dt.set_index('feature')\n",
    "imp_dt.plot(kind='bar');"
   ]
  },
  {
   "cell_type": "code",
   "execution_count": 98,
   "id": "e3fa1bd8",
   "metadata": {},
   "outputs": [
    {
     "data": {
      "text/plain": [
       "0.5487814522196701"
      ]
     },
     "execution_count": 98,
     "metadata": {},
     "output_type": "execute_result"
    }
   ],
   "source": [
    "# RANDOM FOREST\n",
    "# CREATE MODEL\n",
    "\n",
    "rf = RandomForestRegressor(n_estimators = 2000, random_state = 42, max_features = 'sqrt', bootstrap = True)\n",
    "\n",
    "rf = rf.fit(X_train,y_train.values.ravel())\n",
    "    \n",
    "accuracy = rf.score(X_test,y_test)\n",
    "\n",
    "best_rf_model = accuracy\n",
    "best_rf_model\n",
    "# 0.5487814522196701 accuracy"
   ]
  },
  {
   "cell_type": "code",
   "execution_count": 36,
   "id": "69601779",
   "metadata": {},
   "outputs": [
    {
     "data": {
      "text/html": [
       "<div>\n",
       "<style scoped>\n",
       "    .dataframe tbody tr th:only-of-type {\n",
       "        vertical-align: middle;\n",
       "    }\n",
       "\n",
       "    .dataframe tbody tr th {\n",
       "        vertical-align: top;\n",
       "    }\n",
       "\n",
       "    .dataframe thead th {\n",
       "        text-align: right;\n",
       "    }\n",
       "</style>\n",
       "<table border=\"1\" class=\"dataframe\">\n",
       "  <thead>\n",
       "    <tr style=\"text-align: right;\">\n",
       "      <th></th>\n",
       "      <th>feature</th>\n",
       "      <th>importance</th>\n",
       "      <th>cum_importance</th>\n",
       "    </tr>\n",
       "  </thead>\n",
       "  <tbody>\n",
       "    <tr>\n",
       "      <th>0</th>\n",
       "      <td>decade</td>\n",
       "      <td>0.291001</td>\n",
       "      <td>0.291001</td>\n",
       "    </tr>\n",
       "    <tr>\n",
       "      <th>3</th>\n",
       "      <td>log_duration_ms</td>\n",
       "      <td>0.148391</td>\n",
       "      <td>0.439392</td>\n",
       "    </tr>\n",
       "    <tr>\n",
       "      <th>12</th>\n",
       "      <td>acousticness_disc</td>\n",
       "      <td>0.076291</td>\n",
       "      <td>0.515684</td>\n",
       "    </tr>\n",
       "    <tr>\n",
       "      <th>7</th>\n",
       "      <td>key</td>\n",
       "      <td>0.068363</td>\n",
       "      <td>0.584046</td>\n",
       "    </tr>\n",
       "    <tr>\n",
       "      <th>6</th>\n",
       "      <td>instrumentalness_disc</td>\n",
       "      <td>0.061948</td>\n",
       "      <td>0.645994</td>\n",
       "    </tr>\n",
       "    <tr>\n",
       "      <th>13</th>\n",
       "      <td>energy_disc</td>\n",
       "      <td>0.055455</td>\n",
       "      <td>0.701449</td>\n",
       "    </tr>\n",
       "    <tr>\n",
       "      <th>9</th>\n",
       "      <td>loudness_disc</td>\n",
       "      <td>0.046903</td>\n",
       "      <td>0.748352</td>\n",
       "    </tr>\n",
       "    <tr>\n",
       "      <th>10</th>\n",
       "      <td>speechiness_disc</td>\n",
       "      <td>0.043637</td>\n",
       "      <td>0.791989</td>\n",
       "    </tr>\n",
       "  </tbody>\n",
       "</table>\n",
       "</div>"
      ],
      "text/plain": [
       "                  feature  importance  cum_importance\n",
       "0                  decade    0.291001        0.291001\n",
       "3         log_duration_ms    0.148391        0.439392\n",
       "12      acousticness_disc    0.076291        0.515684\n",
       "7                     key    0.068363        0.584046\n",
       "6   instrumentalness_disc    0.061948        0.645994\n",
       "13            energy_disc    0.055455        0.701449\n",
       "9           loudness_disc    0.046903        0.748352\n",
       "10       speechiness_disc    0.043637        0.791989"
      ]
     },
     "execution_count": 36,
     "metadata": {},
     "output_type": "execute_result"
    }
   ],
   "source": [
    "## Feature Importance values and plots for RF model\n",
    "importances_rf = pd.DataFrame({'feature': X.columns,\n",
    "                            'importance': rf.feature_importances_})\n",
    "importances_rf = importances_rf.sort_values('importance', ascending=False)\n",
    "importances_rf['cum_importance'] = importances_rf.importance.cumsum()\n",
    "importances_rf.loc[importances_rf.cum_importance <= .80]"
   ]
  },
  {
   "cell_type": "code",
   "execution_count": 37,
   "id": "b4a221c7-26e6-4778-b307-0629b867adf5",
   "metadata": {},
   "outputs": [
    {
     "data": {
      "image/png": "[encoded data removed]",
      "text/plain": [
       "<Figure size 432x288 with 1 Axes>"
      ]
     },
     "metadata": {
      "needs_background": "light"
     },
     "output_type": "display_data"
    }
   ],
   "source": [
    "imp_rf = importances_rf.set_index('feature')\n",
    "imp_rf.plot(kind='bar');"
   ]
  },
  {
   "cell_type": "markdown",
   "id": "e371b4ed-1b57-495b-a12f-007b0cda146a",
   "metadata": {},
   "source": [
    "## KNN Model"
   ]
  },
  {
   "cell_type": "code",
   "execution_count": 90,
   "id": "b02434ad-34dc-4337-8cff-a3f253207fed",
   "metadata": {},
   "outputs": [],
   "source": [
    "import numpy as np\n",
    "import matplotlib.pyplot as plt\n",
    "import warnings\n",
    "warnings.filterwarnings('ignore')\n",
    "from sklearn.neighbors import KNeighborsClassifier \n",
    "from sklearn.neighbors import KNeighborsRegressor\n",
    "from xgboost import XGBClassifier\n",
    "from lightgbm import LGBMRegressor\n",
    "from sklearn.ensemble import RandomForestRegressor"
   ]
  },
  {
   "cell_type": "code",
   "execution_count": 91,
   "id": "1b56dc48-fb05-4c0d-8bba-d23b14eebd7c",
   "metadata": {},
   "outputs": [
    {
     "data": {
      "image/png": "[encoded data removed]",
      "text/plain": [
       "<Figure size 576x720 with 1 Axes>"
      ]
     },
     "metadata": {
      "needs_background": "light"
     },
     "output_type": "display_data"
    }
   ],
   "source": [
    "neighbors = np.arange(1, 9)\n",
    "train_accuracy = np.empty(len(neighbors))\n",
    "test_accuracy = np.empty(len(neighbors))\n",
    "\n",
    "# Loop over K values\n",
    "for i, k in enumerate(neighbors):\n",
    "    knn = KNeighborsClassifier(n_neighbors=k, n_jobs=5)\n",
    "    knn.fit(X_train, y_train)\n",
    "    \n",
    "    # Compute training and test data accuracy\n",
    "    train_accuracy[i] = knn.score(X_train, y_train)\n",
    "    test_accuracy[i] = knn.score(X_test, y_test)\n",
    "    \n",
    "    \n",
    "# Generate plot\n",
    "plt.plot(neighbors, test_accuracy, label = 'Testing dataset Accuracy')\n",
    "plt.plot(neighbors, train_accuracy, label = 'Training dataset Accuracy')\n",
    " \n",
    "plt.legend()\n",
    "plt.xlabel('n_neighbors')\n",
    "plt.ylabel('Accuracy')\n",
    "plt.show()"
   ]
  },
  {
   "cell_type": "code",
   "execution_count": 92,
   "id": "c46ada92-9d85-4c9f-8879-f40ebfc32d9d",
   "metadata": {},
   "outputs": [
    {
     "data": {
      "text/plain": [
       "array([0.99615801, 0.84478013, 0.8355233 , 0.81376565, 0.80676158,\n",
       "       0.79823383, 0.79616128, 0.79164755])"
      ]
     },
     "execution_count": 92,
     "metadata": {},
     "output_type": "execute_result"
    }
   ],
   "source": [
    "train_accuracy"
   ]
  },
  {
   "cell_type": "code",
   "execution_count": 93,
   "id": "abf34809-0562-4e5e-932e-8035025c79aa",
   "metadata": {},
   "outputs": [
    {
     "data": {
      "text/plain": [
       "array([0.6797217 , 0.7049525 , 0.71456697, 0.73364298, 0.73645278,\n",
       "       0.74425139, 0.74669801, 0.75157215])"
      ]
     },
     "execution_count": 93,
     "metadata": {},
     "output_type": "execute_result"
    }
   ],
   "source": [
    "test_accuracy"
   ]
  },
  {
   "cell_type": "code",
   "execution_count": 94,
   "id": "63a219a3-f3d8-437e-bfe4-41ec2fc55c76",
   "metadata": {},
   "outputs": [
    {
     "data": {
      "text/plain": [
       "0.7466980140298565"
      ]
     },
     "execution_count": 94,
     "metadata": {},
     "output_type": "execute_result"
    }
   ],
   "source": [
    "knn= KNeighborsClassifier(n_neighbors=7, n_jobs=5)\n",
    "knn.fit(X_train,y_train)\n",
    "y_pred= knn.predict(X_test)\n",
    "metrics.accuracy_score(y_test,y_pred)"
   ]
  },
  {
   "cell_type": "code",
   "execution_count": null,
   "id": "89781df0-fa96-4fb7-bb57-adc9ca8f7cc3",
   "metadata": {},
   "outputs": [],
   "source": [
    "# Feature importance is not defined for the KNN Classification algorithm. There is no easy way to compute the features\n",
    "#responsible for a classification here"
   ]
  },
  {
   "cell_type": "code",
   "execution_count": 54,
   "id": "a511f19a-9918-4106-8ca9-ee4a5cf09ffe",
   "metadata": {},
   "outputs": [
    {
     "name": "stdout",
     "output_type": "stream",
     "text": [
      "Best alpha using built-in LassoCV: 0.010124\n",
      "Best score using built-in LassoCV: 0.312563\n"
     ]
    }
   ],
   "source": [
    "#Using Lasso Model to further investigate feature importance \n",
    "from sklearn.linear_model import RidgeCV, LassoCV, Ridge, Lasso\n",
    "reg = LassoCV()\n",
    "reg.fit(X_train, y_train)\n",
    "print(\"Best alpha using built-in LassoCV: %f\" % reg.alpha_)\n",
    "print(\"Best score using built-in LassoCV: %f\" %reg.score(X,y))\n",
    "coef = pd.Series(reg.coef_, index = X.columns)"
   ]
  },
  {
   "cell_type": "code",
   "execution_count": 57,
   "id": "67922c08-ac70-4797-b090-511c0abdf30d",
   "metadata": {},
   "outputs": [
    {
     "name": "stdout",
     "output_type": "stream",
     "text": [
      "Lasso picked 13 variables and eliminated the other 2 variables\n"
     ]
    }
   ],
   "source": [
    "print(\"Lasso picked \" + str(sum(coef != 0)) + \" variables and eliminated the other \" +  str(sum(coef == 0)) + \" variables\")"
   ]
  },
  {
   "cell_type": "code",
   "execution_count": 59,
   "id": "b1049a89-2a2d-4168-9e96-ec038919550b",
   "metadata": {},
   "outputs": [
    {
     "data": {
      "text/plain": [
       "Text(0.5, 1.0, 'Feature importance using Lasso Model')"
      ]
     },
     "execution_count": 59,
     "metadata": {},
     "output_type": "execute_result"
    },
    {
     "data": {
      "image/png": "[encoded data removed]",
      "text/plain": [
       "<Figure size 576x720 with 1 Axes>"
      ]
     },
     "metadata": {
      "needs_background": "light"
     },
     "output_type": "display_data"
    }
   ],
   "source": [
    "imp_coef = coef.sort_values()\n",
    "import matplotlib\n",
    "matplotlib.rcParams['figure.figsize'] = (8.0, 10.0)\n",
    "imp_coef.plot(kind = \"barh\")\n",
    "plt.title(\"Feature importance using Lasso Model\")"
   ]
  },
  {
   "cell_type": "code",
   "execution_count": null,
   "id": "12fb4898-91da-426b-8ea6-d422b94f452d",
   "metadata": {},
   "outputs": [],
   "source": []
  },
  {
   "cell_type": "markdown",
   "id": "272d8818-4d46-4ed9-ae0e-9eb41601166d",
   "metadata": {},
   "source": [
    "## XGBOOST Model "
   ]
  },
  {
   "cell_type": "code",
   "execution_count": 37,
   "id": "f1690cdc-d722-4c52-bf6e-a5b2f4be95f8",
   "metadata": {},
   "outputs": [
    {
     "name": "stdout",
     "output_type": "stream",
     "text": [
      "Collecting xgboost\n",
      "  Downloading xgboost-1.5.0-py3-none-macosx_10_14_x86_64.macosx_10_15_x86_64.macosx_11_0_x86_64.whl (1.3 MB)\n",
      "     |████████████████████████████████| 1.3 MB 2.2 MB/s            \n",
      "\u001b[?25hRequirement already satisfied: scipy in /Library/Frameworks/Python.framework/Versions/3.9/lib/python3.9/site-packages (from xgboost) (1.6.3)\n",
      "Requirement already satisfied: numpy in /Library/Frameworks/Python.framework/Versions/3.9/lib/python3.9/site-packages (from xgboost) (1.19.5)\n",
      "Installing collected packages: xgboost\n",
      "Successfully installed xgboost-1.5.0\n",
      "Note: you may need to restart the kernel to use updated packages.\n"
     ]
    }
   ],
   "source": [
    "pip install xgboost"
   ]
  },
  {
   "cell_type": "code",
   "execution_count": 30,
   "id": "fb23dd96-d0c8-4468-844d-5973ea6addd1",
   "metadata": {},
   "outputs": [
    {
     "name": "stdout",
     "output_type": "stream",
     "text": [
      "decade                     int64\n",
      "tempo_disc                object\n",
      "multi_artist              object\n",
      "log_duration_ms          float64\n",
      "danceability_disc         object\n",
      "explicit                  object\n",
      "instrumentalness_disc     object\n",
      "key                       object\n",
      "liveness_disc             object\n",
      "loudness_disc             object\n",
      "speechiness_disc          object\n",
      "valence_disc              object\n",
      "acousticness_disc         object\n",
      "energy_disc               object\n",
      "mode                       int64\n",
      "dtype: object\n"
     ]
    }
   ],
   "source": [
    "print(X_test.dtypes)"
   ]
  },
  {
   "cell_type": "code",
   "execution_count": 31,
   "id": "9b47a0db-13cc-4a40-8e0d-3797206f8e5a",
   "metadata": {},
   "outputs": [
    {
     "name": "stdout",
     "output_type": "stream",
     "text": [
      "popularity_disc    object\n",
      "dtype: object\n"
     ]
    }
   ],
   "source": [
    "print(y_train.dtypes)"
   ]
  },
  {
   "cell_type": "code",
   "execution_count": 32,
   "id": "d8b444ad-10fe-47ff-af75-4119f0050870",
   "metadata": {},
   "outputs": [],
   "source": [
    "from sklearn import preprocessing\n",
    "lbl = preprocessing.LabelEncoder()\n",
    "X_test['tempo_disc'] = lbl.fit_transform(X_test['tempo_disc'].astype(str))\n",
    "X_test['multi_artist'] = lbl.fit_transform(X_test['multi_artist'].astype(str))\n",
    "X_test['danceability_disc'] = lbl.fit_transform(X_test['danceability_disc'].astype(str))\n",
    "X_test['explicit'] = lbl.fit_transform(X_test['explicit'].astype(str))\n",
    "X_test['instrumentalness_disc'] = lbl.fit_transform(X_test['instrumentalness_disc'].astype(str))\n",
    "X_test['key'] = lbl.fit_transform(X_test['key'].astype(str))\n",
    "X_test['liveness_disc'] = lbl.fit_transform(X_test['liveness_disc'].astype(str))\n",
    "X_test['loudness_disc'] = lbl.fit_transform(X_test['loudness_disc'].astype(str))\n",
    "X_test['speechiness_disc'] = lbl.fit_transform(X_test['speechiness_disc'].astype(str))\n",
    "X_test['valence_disc'] = lbl.fit_transform(X_test['valence_disc'].astype(str))\n",
    "X_test['acousticness_disc'] = lbl.fit_transform(X_test['acousticness_disc'].astype(str))\n",
    "X_test['energy_disc'] = lbl.fit_transform(X_test['energy_disc'].astype(str))"
   ]
  },
  {
   "cell_type": "code",
   "execution_count": 33,
   "id": "20208a90-9fc6-4d08-b5f9-d55536229fe2",
   "metadata": {},
   "outputs": [
    {
     "name": "stdout",
     "output_type": "stream",
     "text": [
      "decade                     int64\n",
      "tempo_disc                 int64\n",
      "multi_artist               int64\n",
      "log_duration_ms          float64\n",
      "danceability_disc          int64\n",
      "explicit                   int64\n",
      "instrumentalness_disc      int64\n",
      "key                        int64\n",
      "liveness_disc              int64\n",
      "loudness_disc              int64\n",
      "speechiness_disc           int64\n",
      "valence_disc               int64\n",
      "acousticness_disc          int64\n",
      "energy_disc                int64\n",
      "mode                       int64\n",
      "dtype: object\n"
     ]
    }
   ],
   "source": [
    "print(X_test.dtypes)"
   ]
  },
  {
   "cell_type": "code",
   "execution_count": 48,
   "id": "e710aa7f-82e1-4f7c-8f26-e753d9cec8c9",
   "metadata": {},
   "outputs": [],
   "source": [
    "# import xgboost as xgb\n",
    "# model=xgb.XGBClassifier(random_state=1,learning_rate=0.01)\n",
    "# model.fit(X_train, y_train)\n",
    "# model.score(X_test,y_test)"
   ]
  },
  {
   "cell_type": "code",
   "execution_count": 34,
   "id": "acf5e773-dc82-4114-a72c-bf9873e2f5dc",
   "metadata": {},
   "outputs": [
    {
     "name": "stdout",
     "output_type": "stream",
     "text": [
      "decade                     int64\n",
      "tempo_disc                object\n",
      "multi_artist              object\n",
      "log_duration_ms          float64\n",
      "danceability_disc         object\n",
      "explicit                  object\n",
      "instrumentalness_disc     object\n",
      "key                       object\n",
      "liveness_disc             object\n",
      "loudness_disc             object\n",
      "speechiness_disc          object\n",
      "valence_disc              object\n",
      "acousticness_disc         object\n",
      "energy_disc               object\n",
      "mode                       int64\n",
      "dtype: object\n"
     ]
    }
   ],
   "source": [
    "print(X_train.dtypes)"
   ]
  },
  {
   "cell_type": "code",
   "execution_count": 35,
   "id": "2e4be189-9aa8-4fdf-91a9-b4c489bf88bd",
   "metadata": {},
   "outputs": [],
   "source": [
    "from sklearn import preprocessing\n",
    "lbl = preprocessing.LabelEncoder()\n",
    "X_train['tempo_disc'] = lbl.fit_transform(X_train['tempo_disc'].astype(str))\n",
    "X_train['multi_artist'] = lbl.fit_transform(X_train['multi_artist'].astype(str))\n",
    "X_train['danceability_disc'] = lbl.fit_transform(X_train['danceability_disc'].astype(str))\n",
    "X_train['explicit'] = lbl.fit_transform(X_train['explicit'].astype(str))\n",
    "X_train['instrumentalness_disc'] = lbl.fit_transform(X_train['instrumentalness_disc'].astype(str))\n",
    "X_train['key'] = lbl.fit_transform(X_train['key'].astype(str))\n",
    "X_train['liveness_disc'] = lbl.fit_transform(X_train['liveness_disc'].astype(str))\n",
    "X_train['loudness_disc'] = lbl.fit_transform(X_train['loudness_disc'].astype(str))\n",
    "X_train['speechiness_disc'] = lbl.fit_transform(X_train['speechiness_disc'].astype(str))\n",
    "X_train['valence_disc'] = lbl.fit_transform(X_train['valence_disc'].astype(str))\n",
    "X_train['acousticness_disc'] = lbl.fit_transform(X_train['acousticness_disc'].astype(str))\n",
    "X_train['energy_disc'] = lbl.fit_transform(X_train['energy_disc'].astype(str))"
   ]
  },
  {
   "cell_type": "code",
   "execution_count": 36,
   "id": "6c67aa29-398d-42b2-8402-6156c3d15ffb",
   "metadata": {},
   "outputs": [
    {
     "name": "stdout",
     "output_type": "stream",
     "text": [
      "decade                     int64\n",
      "tempo_disc                 int64\n",
      "multi_artist               int64\n",
      "log_duration_ms          float64\n",
      "danceability_disc          int64\n",
      "explicit                   int64\n",
      "instrumentalness_disc      int64\n",
      "key                        int64\n",
      "liveness_disc              int64\n",
      "loudness_disc              int64\n",
      "speechiness_disc           int64\n",
      "valence_disc               int64\n",
      "acousticness_disc          int64\n",
      "energy_disc                int64\n",
      "mode                       int64\n",
      "dtype: object\n"
     ]
    }
   ],
   "source": [
    "print(X_train.dtypes)"
   ]
  },
  {
   "cell_type": "code",
   "execution_count": 37,
   "id": "f1780b45-fd7c-4e33-a355-dead23880c02",
   "metadata": {},
   "outputs": [
    {
     "name": "stdout",
     "output_type": "stream",
     "text": [
      "[20:27:11] WARNING: /Users/travis/build/dmlc/xgboost/src/learner.cc:1115: Starting in XGBoost 1.3.0, the default evaluation metric used with the objective 'multi:softprob' was changed from 'merror' to 'mlogloss'. Explicitly set eval_metric if you'd like to restore the old behavior.\n"
     ]
    },
    {
     "data": {
      "text/plain": [
       "XGBClassifier(base_score=0.5, booster='gbtree', colsample_bylevel=1,\n",
       "              colsample_bynode=1, colsample_bytree=1, enable_categorical=False,\n",
       "              gamma=0, gpu_id=-1, importance_type=None,\n",
       "              interaction_constraints='', learning_rate=0.01, max_delta_step=0,\n",
       "              max_depth=6, min_child_weight=1, missing=nan,\n",
       "              monotone_constraints='()', n_estimators=100, n_jobs=4,\n",
       "              num_parallel_tree=1, objective='multi:softprob', predictor='auto',\n",
       "              random_state=1, reg_alpha=0, reg_lambda=1, scale_pos_weight=None,\n",
       "              subsample=1, tree_method='exact', validate_parameters=1,\n",
       "              verbosity=None)"
      ]
     },
     "execution_count": 37,
     "metadata": {},
     "output_type": "execute_result"
    }
   ],
   "source": [
    "import xgboost as xgb\n",
    "model=xgb.XGBClassifier(random_state=1,learning_rate=0.01)\n",
    "model.fit(X_train, y_train)"
   ]
  },
  {
   "cell_type": "code",
   "execution_count": 38,
   "id": "6bb7dbda-6b2b-4bbe-b1d9-e572b30b39da",
   "metadata": {},
   "outputs": [
    {
     "data": {
      "text/plain": [
       "0.7604411567941587"
      ]
     },
     "execution_count": 38,
     "metadata": {},
     "output_type": "execute_result"
    }
   ],
   "source": [
    "y_pred_xg= model.predict(X_test)\n",
    "metrics.accuracy_score(y_test,y_pred_xg)"
   ]
  },
  {
   "cell_type": "code",
   "execution_count": 44,
   "id": "f32b8e32-60e4-4e24-a2fe-639c4ea8dfaa",
   "metadata": {},
   "outputs": [],
   "source": [
    "# feature importance of XGBOOST MOdel \n",
    "importances = pd.DataFrame(data={\n",
    "    'Attribute': X_train.columns,\n",
    "    'Importance': model.feature_importances_\n",
    "})\n",
    "importances = importances.sort_values(by='Importance', ascending=False)"
   ]
  },
  {
   "cell_type": "code",
   "execution_count": 45,
   "id": "3e2e5b25-e3be-44db-bcd4-91617b3315c3",
   "metadata": {},
   "outputs": [
    {
     "data": {
      "text/html": [
       "<div>\n",
       "<style scoped>\n",
       "    .dataframe tbody tr th:only-of-type {\n",
       "        vertical-align: middle;\n",
       "    }\n",
       "\n",
       "    .dataframe tbody tr th {\n",
       "        vertical-align: top;\n",
       "    }\n",
       "\n",
       "    .dataframe thead th {\n",
       "        text-align: right;\n",
       "    }\n",
       "</style>\n",
       "<table border=\"1\" class=\"dataframe\">\n",
       "  <thead>\n",
       "    <tr style=\"text-align: right;\">\n",
       "      <th></th>\n",
       "      <th>Attribute</th>\n",
       "      <th>Importance</th>\n",
       "    </tr>\n",
       "  </thead>\n",
       "  <tbody>\n",
       "    <tr>\n",
       "      <th>0</th>\n",
       "      <td>decade</td>\n",
       "      <td>0.829424</td>\n",
       "    </tr>\n",
       "    <tr>\n",
       "      <th>6</th>\n",
       "      <td>instrumentalness_disc</td>\n",
       "      <td>0.065661</td>\n",
       "    </tr>\n",
       "    <tr>\n",
       "      <th>5</th>\n",
       "      <td>explicit</td>\n",
       "      <td>0.032620</td>\n",
       "    </tr>\n",
       "    <tr>\n",
       "      <th>12</th>\n",
       "      <td>acousticness_disc</td>\n",
       "      <td>0.014279</td>\n",
       "    </tr>\n",
       "    <tr>\n",
       "      <th>9</th>\n",
       "      <td>loudness_disc</td>\n",
       "      <td>0.008825</td>\n",
       "    </tr>\n",
       "    <tr>\n",
       "      <th>8</th>\n",
       "      <td>liveness_disc</td>\n",
       "      <td>0.008751</td>\n",
       "    </tr>\n",
       "    <tr>\n",
       "      <th>3</th>\n",
       "      <td>log_duration_ms</td>\n",
       "      <td>0.007997</td>\n",
       "    </tr>\n",
       "    <tr>\n",
       "      <th>1</th>\n",
       "      <td>tempo_disc</td>\n",
       "      <td>0.006648</td>\n",
       "    </tr>\n",
       "    <tr>\n",
       "      <th>4</th>\n",
       "      <td>danceability_disc</td>\n",
       "      <td>0.005317</td>\n",
       "    </tr>\n",
       "    <tr>\n",
       "      <th>13</th>\n",
       "      <td>energy_disc</td>\n",
       "      <td>0.005285</td>\n",
       "    </tr>\n",
       "    <tr>\n",
       "      <th>10</th>\n",
       "      <td>speechiness_disc</td>\n",
       "      <td>0.004194</td>\n",
       "    </tr>\n",
       "    <tr>\n",
       "      <th>2</th>\n",
       "      <td>multi_artist</td>\n",
       "      <td>0.004009</td>\n",
       "    </tr>\n",
       "    <tr>\n",
       "      <th>14</th>\n",
       "      <td>mode</td>\n",
       "      <td>0.003808</td>\n",
       "    </tr>\n",
       "    <tr>\n",
       "      <th>11</th>\n",
       "      <td>valence_disc</td>\n",
       "      <td>0.002623</td>\n",
       "    </tr>\n",
       "    <tr>\n",
       "      <th>7</th>\n",
       "      <td>key</td>\n",
       "      <td>0.000559</td>\n",
       "    </tr>\n",
       "  </tbody>\n",
       "</table>\n",
       "</div>"
      ],
      "text/plain": [
       "                Attribute  Importance\n",
       "0                  decade    0.829424\n",
       "6   instrumentalness_disc    0.065661\n",
       "5                explicit    0.032620\n",
       "12      acousticness_disc    0.014279\n",
       "9           loudness_disc    0.008825\n",
       "8           liveness_disc    0.008751\n",
       "3         log_duration_ms    0.007997\n",
       "1              tempo_disc    0.006648\n",
       "4       danceability_disc    0.005317\n",
       "13            energy_disc    0.005285\n",
       "10       speechiness_disc    0.004194\n",
       "2            multi_artist    0.004009\n",
       "14                   mode    0.003808\n",
       "11           valence_disc    0.002623\n",
       "7                     key    0.000559"
      ]
     },
     "execution_count": 45,
     "metadata": {},
     "output_type": "execute_result"
    }
   ],
   "source": [
    "importances"
   ]
  },
  {
   "cell_type": "code",
   "execution_count": 97,
   "id": "bd83dbd7-18f6-4e91-9fd4-76fbf9ff9a77",
   "metadata": {},
   "outputs": [
    {
     "data": {
      "image/png": "[encoded data removed]",
      "text/plain": [
       "<Figure size 576x720 with 1 Axes>"
      ]
     },
     "metadata": {
      "needs_background": "light"
     },
     "output_type": "display_data"
    }
   ],
   "source": [
    "# plot feature importance xgboost \n",
    "from xgboost import plot_importance\n",
    "plot_importance(model)\n",
    "plt.show()"
   ]
  },
  {
   "cell_type": "code",
   "execution_count": null,
   "id": "664896f1-2d2a-489e-a6e7-0fbac6085739",
   "metadata": {},
   "outputs": [],
   "source": []
  },
  {
   "cell_type": "code",
   "execution_count": null,
   "id": "e57a5605",
   "metadata": {},
   "outputs": [],
   "source": [
    "# Support Vector Machine"
   ]
  },
  {
   "cell_type": "code",
   "execution_count": null,
   "id": "73a81101",
   "metadata": {},
   "outputs": [],
   "source": [
    "from sklearn.model_selection import train_test_split\n",
    "\n",
    "# split into training and holdout\n",
    "X = music_disc.loc[:, music_disc.columns != 'popularity_disc']\n",
    "y = music_disc.loc[:, music_disc.columns == 'popularity_disc']\n",
    "X_train, X_test, y_train, y_test = train_test_split(X, y, test_size=0.3, random_state=1) # 70% training and 30% test"
   ]
  },
  {
   "cell_type": "code",
   "execution_count": null,
   "id": "d1b2c794",
   "metadata": {},
   "outputs": [],
   "source": [
    "from sklearn.svm import SVC"
   ]
  },
  {
   "cell_type": "code",
   "execution_count": null,
   "id": "a6c9c927",
   "metadata": {},
   "outputs": [],
   "source": [
    "modelSVC = SVC()"
   ]
  },
  {
   "cell_type": "code",
   "execution_count": null,
   "id": "e8bd2708",
   "metadata": {},
   "outputs": [],
   "source": [
    "# Train the Model\n",
    "\n",
    "# X_train, X_test, y_train, y_test\n",
    "\n",
    "modelSVC.fit(X_train, y_train)"
   ]
  },
  {
   "cell_type": "code",
   "execution_count": null,
   "id": "c44f5a1a",
   "metadata": {},
   "outputs": [],
   "source": [
    "#Make predictions with the model\n",
    "\n",
    "predictions = modelSVC.predict(X_test)"
   ]
  },
  {
   "cell_type": "code",
   "execution_count": null,
   "id": "31258f72",
   "metadata": {},
   "outputs": [],
   "source": [
    "#Measure the performance of our model\n",
    "\n",
    "from sklearn.metrics import classification_report\n",
    "from sklearn.metrics import confusion_matrix"
   ]
  },
  {
   "cell_type": "code",
   "execution_count": null,
   "id": "f5db95d5",
   "metadata": {},
   "outputs": [],
   "source": [
    "print(classification_report(y_test, predictions))"
   ]
  },
  {
   "cell_type": "code",
   "execution_count": null,
   "id": "d321a32d",
   "metadata": {},
   "outputs": [],
   "source": [
    "# precision    recall  f1-score   support\n",
    "#\n",
    "#           0       0.68      0.95      0.79     24628\n",
    "#           1       0.75      0.74      0.74     18398\n",
    "#           2       0.00      0.00      0.00      8609\n",
    "#           3       0.00      0.00      0.00       682\n",
    "\n",
    "#    accuracy                           0.70     52317\n",
    "#   macro avg       0.36      0.42      0.38     52317\n",
    "#weighted avg       0.58      0.70      0.63     52317"
   ]
  },
  {
   "cell_type": "code",
   "execution_count": null,
   "id": "0c34b38f",
   "metadata": {},
   "outputs": [],
   "source": [
    "print(confusion_matrix(y_test, predictions))"
   ]
  },
  {
   "cell_type": "code",
   "execution_count": null,
   "id": "967faa7e",
   "metadata": {},
   "outputs": [],
   "source": [
    "#[[23294  1334     0     0]\n",
    "# [ 4809 13589     0     0]\n",
    "# [ 5380  3229     0     0]\n",
    "# [  614    68     0     0]]"
   ]
  },
  {
   "cell_type": "code",
   "execution_count": null,
   "id": "9ede26f2",
   "metadata": {},
   "outputs": [],
   "source": [
    "from sklearn import metrics"
   ]
  },
  {
   "cell_type": "code",
   "execution_count": null,
   "id": "7f19ee66",
   "metadata": {},
   "outputs": [],
   "source": [
    "print(\"Accuracy:\",metrics.accuracy_score(y_test, predictions))"
   ]
  },
  {
   "cell_type": "code",
   "execution_count": null,
   "id": "b80a74fb",
   "metadata": {},
   "outputs": [],
   "source": []
  },
  {
   "cell_type": "code",
   "execution_count": null,
   "id": "c28be97c",
   "metadata": {},
   "outputs": [],
   "source": [
    "# XG CatBoost"
   ]
  },
  {
   "cell_type": "code",
   "execution_count": null,
   "id": "e9a34ab1",
   "metadata": {},
   "outputs": [],
   "source": [
    "# Build Model\n",
    "\n",
    "from catboost import CatBoostClassifier\n",
    "XGcat = CatBoostClassifier(n_estimators=100)"
   ]
  },
  {
   "cell_type": "code",
   "execution_count": null,
   "id": "80d50883",
   "metadata": {},
   "outputs": [],
   "source": [
    "XGcat.fit(X_train, y_train)"
   ]
  },
  {
   "cell_type": "code",
   "execution_count": null,
   "id": "a2f0b7c0",
   "metadata": {},
   "outputs": [],
   "source": [
    "# X_train, X_test, y_train, y_test\n",
    "print(classification_report(y_test,XGcat.predict(X_test)))\n",
    "\n",
    "#                precision    recall  f1-score   support\n",
    "#\n",
    "#           0       0.86      0.86      0.86     24628\n",
    "#           1       0.71      0.81      0.76     18398\n",
    "#           2       0.62      0.47      0.53      8609\n",
    "#           3       0.42      0.09      0.15       682\n",
    "\n",
    "#    accuracy                           0.77     52317\n",
    "#   macro avg       0.65      0.56      0.57     52317\n",
    "#weighted avg       0.76      0.77      0.76     52317"
   ]
  },
  {
   "cell_type": "code",
   "execution_count": null,
   "id": "bff1c33f",
   "metadata": {},
   "outputs": [],
   "source": [
    "# get importance\n",
    "importance = XGcat.feature_importances_"
   ]
  },
  {
   "cell_type": "code",
   "execution_count": null,
   "id": "58198a2b",
   "metadata": {},
   "outputs": [],
   "source": [
    "# summarize feature importance\n",
    "for i,v in enumerate(importance):\n",
    "\tprint('Feature: %0d, Score: %.5f' % (i,v))"
   ]
  },
  {
   "cell_type": "code",
   "execution_count": null,
   "id": "d1819c40",
   "metadata": {},
   "outputs": [],
   "source": [
    "from matplotlib import pyplot"
   ]
  },
  {
   "cell_type": "code",
   "execution_count": null,
   "id": "22e0a49c",
   "metadata": {},
   "outputs": [],
   "source": [
    "# plot feature importance\n",
    "pyplot.bar([x for x in range(len(importance))], importance)\n",
    "pyplot.show()"
   ]
  },
  {
   "cell_type": "code",
   "execution_count": null,
   "id": "2d991fd8",
   "metadata": {},
   "outputs": [],
   "source": []
  },
  {
   "cell_type": "code",
   "execution_count": null,
   "id": "179b6d57",
   "metadata": {},
   "outputs": [],
   "source": []
  },
  {
   "cell_type": "code",
   "execution_count": null,
   "id": "3d623b8f",
   "metadata": {},
   "outputs": [],
   "source": []
  }
 ],
 "metadata": {
  "kernelspec": {
   "display_name": "Python 3 (ipykernel)",
   "language": "python",
   "name": "python3"
  },
  "language_info": {
   "codemirror_mode": {
    "name": "ipython",
    "version": 3
   },
   "file_extension": ".py",
   "mimetype": "text/x-python",
   "name": "python",
   "nbconvert_exporter": "python",
   "pygments_lexer": "ipython3",
   "version": "3.9.4"
  }
 },
 "nbformat": 4,
 "nbformat_minor": 5
}
